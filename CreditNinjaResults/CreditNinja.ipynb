{
 "cells": [
  {
   "cell_type": "markdown",
   "metadata": {},
   "source": [
    "# CreditNinja Modeling Challenge"
   ]
  },
  {
   "cell_type": "markdown",
   "metadata": {},
   "source": [
    "In this case study, we are asking you to review a dataset, clean the dataset, and then provide us with your thoughts regarding 1) which business rules can be used to reduce default rate, and 2) how a model could be built to effectively predict a potential borrower’s chance of default."
   ]
  },
  {
   "cell_type": "code",
   "execution_count": 1,
   "metadata": {},
   "outputs": [
    {
     "name": "stdout",
     "output_type": "stream",
     "text": [
      "Notebook Last Run Initiated: 2020-10-06 08:57:30.282563\n"
     ]
    }
   ],
   "source": [
    "import datetime as dt\n",
    "start = dt.datetime.now()\n",
    "print(\"Notebook Last Run Initiated: \"+str(start))"
   ]
  },
  {
   "cell_type": "markdown",
   "metadata": {},
   "source": [
    "## Standard Python Modules"
   ]
  },
  {
   "cell_type": "code",
   "execution_count": 357,
   "metadata": {},
   "outputs": [
    {
     "name": "stdout",
     "output_type": "stream",
     "text": [
      "3.7.7 (default, Mar 26 2020, 10:32:53) \n",
      "[Clang 4.0.1 (tags/RELEASE_401/final)]\n"
     ]
    }
   ],
   "source": [
    "from numpy import reshape\n",
    "from pandas import DataFrame, Series, to_datetime\n",
    "import xgboost\n",
    "from sklearn.model_selection import train_test_split\n",
    "from sklearn import preprocessing\n",
    "from sklearn import metrics\n",
    "from sklearn.metrics import precision_recall_curve\n",
    "from sklearn.metrics import roc_curve\n",
    "from sklearn.metrics import confusion_matrix\n",
    "from sklearn.metrics import roc_auc_score    \n",
    "from sklearn.feature_selection import SelectFromModel\n",
    "from transform import transformData\n",
    "from traintest import trainEstimator\n",
    "\n",
    "import sys\n",
    "print(sys.version)"
   ]
  },
  {
   "cell_type": "markdown",
   "metadata": {},
   "source": [
    "# Model Inputs"
   ]
  },
  {
   "cell_type": "code",
   "execution_count": 3,
   "metadata": {},
   "outputs": [
    {
     "data": {
      "text/html": [
       "<div>\n",
       "<style scoped>\n",
       "    .dataframe tbody tr th:only-of-type {\n",
       "        vertical-align: middle;\n",
       "    }\n",
       "\n",
       "    .dataframe tbody tr th {\n",
       "        vertical-align: top;\n",
       "    }\n",
       "\n",
       "    .dataframe thead th {\n",
       "        text-align: right;\n",
       "    }\n",
       "</style>\n",
       "<table border=\"1\" class=\"dataframe\">\n",
       "  <thead>\n",
       "    <tr style=\"text-align: right;\">\n",
       "      <th></th>\n",
       "      <th>id</th>\n",
       "      <th>loan_amnt</th>\n",
       "      <th>installment</th>\n",
       "      <th>annual_inc</th>\n",
       "      <th>dti</th>\n",
       "      <th>fico_range_low</th>\n",
       "      <th>fico_range_high</th>\n",
       "      <th>last_fico_range_high</th>\n",
       "      <th>last_fico_range_low</th>\n",
       "      <th>acc_now_delinq</th>\n",
       "      <th>delinq_amnt</th>\n",
       "      <th>delinq_2yrs</th>\n",
       "      <th>mths_since_last_delinq</th>\n",
       "      <th>mths_since_last_record</th>\n",
       "      <th>inq_last_6mths</th>\n",
       "      <th>inq_last_12m</th>\n",
       "    </tr>\n",
       "  </thead>\n",
       "  <tbody>\n",
       "    <tr>\n",
       "      <th>count</th>\n",
       "      <td>8.000000e+04</td>\n",
       "      <td>80000.000000</td>\n",
       "      <td>80000.000000</td>\n",
       "      <td>8.000000e+04</td>\n",
       "      <td>80000.000000</td>\n",
       "      <td>80000.000000</td>\n",
       "      <td>80000.000000</td>\n",
       "      <td>80000.000000</td>\n",
       "      <td>80000.000000</td>\n",
       "      <td>80000.000000</td>\n",
       "      <td>80000.000000</td>\n",
       "      <td>80000.000000</td>\n",
       "      <td>41786.000000</td>\n",
       "      <td>14532.000000</td>\n",
       "      <td>80000.000000</td>\n",
       "      <td>37395.000000</td>\n",
       "    </tr>\n",
       "    <tr>\n",
       "      <th>mean</th>\n",
       "      <td>6.474229e+07</td>\n",
       "      <td>15055.793750</td>\n",
       "      <td>443.595158</td>\n",
       "      <td>7.778995e+04</td>\n",
       "      <td>19.446568</td>\n",
       "      <td>694.314000</td>\n",
       "      <td>698.314112</td>\n",
       "      <td>693.328225</td>\n",
       "      <td>686.068437</td>\n",
       "      <td>0.006488</td>\n",
       "      <td>16.692025</td>\n",
       "      <td>0.352275</td>\n",
       "      <td>33.964558</td>\n",
       "      <td>66.776356</td>\n",
       "      <td>0.565950</td>\n",
       "      <td>2.184009</td>\n",
       "    </tr>\n",
       "    <tr>\n",
       "      <th>std</th>\n",
       "      <td>1.488143e+07</td>\n",
       "      <td>8729.299624</td>\n",
       "      <td>255.693326</td>\n",
       "      <td>8.648673e+04</td>\n",
       "      <td>61.871127</td>\n",
       "      <td>30.744603</td>\n",
       "      <td>30.745156</td>\n",
       "      <td>58.631248</td>\n",
       "      <td>79.416694</td>\n",
       "      <td>0.084235</td>\n",
       "      <td>848.289643</td>\n",
       "      <td>0.942411</td>\n",
       "      <td>21.997469</td>\n",
       "      <td>25.205219</td>\n",
       "      <td>0.863342</td>\n",
       "      <td>2.473969</td>\n",
       "    </tr>\n",
       "    <tr>\n",
       "      <th>min</th>\n",
       "      <td>6.510400e+04</td>\n",
       "      <td>1000.000000</td>\n",
       "      <td>30.120000</td>\n",
       "      <td>0.000000e+00</td>\n",
       "      <td>0.000000</td>\n",
       "      <td>660.000000</td>\n",
       "      <td>664.000000</td>\n",
       "      <td>0.000000</td>\n",
       "      <td>0.000000</td>\n",
       "      <td>0.000000</td>\n",
       "      <td>0.000000</td>\n",
       "      <td>0.000000</td>\n",
       "      <td>0.000000</td>\n",
       "      <td>0.000000</td>\n",
       "      <td>0.000000</td>\n",
       "      <td>0.000000</td>\n",
       "    </tr>\n",
       "    <tr>\n",
       "      <th>25%</th>\n",
       "      <td>5.389471e+07</td>\n",
       "      <td>8000.000000</td>\n",
       "      <td>258.100000</td>\n",
       "      <td>4.700000e+04</td>\n",
       "      <td>12.430000</td>\n",
       "      <td>670.000000</td>\n",
       "      <td>674.000000</td>\n",
       "      <td>669.000000</td>\n",
       "      <td>665.000000</td>\n",
       "      <td>0.000000</td>\n",
       "      <td>0.000000</td>\n",
       "      <td>0.000000</td>\n",
       "      <td>15.000000</td>\n",
       "      <td>50.000000</td>\n",
       "      <td>0.000000</td>\n",
       "      <td>0.000000</td>\n",
       "    </tr>\n",
       "    <tr>\n",
       "      <th>50%</th>\n",
       "      <td>6.571584e+07</td>\n",
       "      <td>13275.000000</td>\n",
       "      <td>382.500000</td>\n",
       "      <td>6.500000e+04</td>\n",
       "      <td>18.440000</td>\n",
       "      <td>685.000000</td>\n",
       "      <td>689.000000</td>\n",
       "      <td>699.000000</td>\n",
       "      <td>695.000000</td>\n",
       "      <td>0.000000</td>\n",
       "      <td>0.000000</td>\n",
       "      <td>0.000000</td>\n",
       "      <td>31.000000</td>\n",
       "      <td>68.000000</td>\n",
       "      <td>0.000000</td>\n",
       "      <td>1.000000</td>\n",
       "    </tr>\n",
       "    <tr>\n",
       "      <th>75%</th>\n",
       "      <td>7.612197e+07</td>\n",
       "      <td>20000.000000</td>\n",
       "      <td>585.080000</td>\n",
       "      <td>9.250000e+04</td>\n",
       "      <td>25.170000</td>\n",
       "      <td>710.000000</td>\n",
       "      <td>714.000000</td>\n",
       "      <td>729.000000</td>\n",
       "      <td>725.000000</td>\n",
       "      <td>0.000000</td>\n",
       "      <td>0.000000</td>\n",
       "      <td>0.000000</td>\n",
       "      <td>50.000000</td>\n",
       "      <td>83.000000</td>\n",
       "      <td>1.000000</td>\n",
       "      <td>3.000000</td>\n",
       "    </tr>\n",
       "    <tr>\n",
       "      <th>max</th>\n",
       "      <td>9.094516e+07</td>\n",
       "      <td>40000.000000</td>\n",
       "      <td>1536.950000</td>\n",
       "      <td>8.706582e+06</td>\n",
       "      <td>9999.000000</td>\n",
       "      <td>845.000000</td>\n",
       "      <td>850.000000</td>\n",
       "      <td>850.000000</td>\n",
       "      <td>845.000000</td>\n",
       "      <td>3.000000</td>\n",
       "      <td>110626.000000</td>\n",
       "      <td>39.000000</td>\n",
       "      <td>146.000000</td>\n",
       "      <td>119.000000</td>\n",
       "      <td>6.000000</td>\n",
       "      <td>36.000000</td>\n",
       "    </tr>\n",
       "  </tbody>\n",
       "</table>\n",
       "</div>"
      ],
      "text/plain": [
       "                 id     loan_amnt   installment    annual_inc           dti  \\\n",
       "count  8.000000e+04  80000.000000  80000.000000  8.000000e+04  80000.000000   \n",
       "mean   6.474229e+07  15055.793750    443.595158  7.778995e+04     19.446568   \n",
       "std    1.488143e+07   8729.299624    255.693326  8.648673e+04     61.871127   \n",
       "min    6.510400e+04   1000.000000     30.120000  0.000000e+00      0.000000   \n",
       "25%    5.389471e+07   8000.000000    258.100000  4.700000e+04     12.430000   \n",
       "50%    6.571584e+07  13275.000000    382.500000  6.500000e+04     18.440000   \n",
       "75%    7.612197e+07  20000.000000    585.080000  9.250000e+04     25.170000   \n",
       "max    9.094516e+07  40000.000000   1536.950000  8.706582e+06   9999.000000   \n",
       "\n",
       "       fico_range_low  fico_range_high  last_fico_range_high  \\\n",
       "count    80000.000000     80000.000000          80000.000000   \n",
       "mean       694.314000       698.314112            693.328225   \n",
       "std         30.744603        30.745156             58.631248   \n",
       "min        660.000000       664.000000              0.000000   \n",
       "25%        670.000000       674.000000            669.000000   \n",
       "50%        685.000000       689.000000            699.000000   \n",
       "75%        710.000000       714.000000            729.000000   \n",
       "max        845.000000       850.000000            850.000000   \n",
       "\n",
       "       last_fico_range_low  acc_now_delinq    delinq_amnt   delinq_2yrs  \\\n",
       "count         80000.000000    80000.000000   80000.000000  80000.000000   \n",
       "mean            686.068437        0.006488      16.692025      0.352275   \n",
       "std              79.416694        0.084235     848.289643      0.942411   \n",
       "min               0.000000        0.000000       0.000000      0.000000   \n",
       "25%             665.000000        0.000000       0.000000      0.000000   \n",
       "50%             695.000000        0.000000       0.000000      0.000000   \n",
       "75%             725.000000        0.000000       0.000000      0.000000   \n",
       "max             845.000000        3.000000  110626.000000     39.000000   \n",
       "\n",
       "       mths_since_last_delinq  mths_since_last_record  inq_last_6mths  \\\n",
       "count            41786.000000            14532.000000    80000.000000   \n",
       "mean                33.964558               66.776356        0.565950   \n",
       "std                 21.997469               25.205219        0.863342   \n",
       "min                  0.000000                0.000000        0.000000   \n",
       "25%                 15.000000               50.000000        0.000000   \n",
       "50%                 31.000000               68.000000        0.000000   \n",
       "75%                 50.000000               83.000000        1.000000   \n",
       "max                146.000000              119.000000        6.000000   \n",
       "\n",
       "       inq_last_12m  \n",
       "count  37395.000000  \n",
       "mean       2.184009  \n",
       "std        2.473969  \n",
       "min        0.000000  \n",
       "25%        0.000000  \n",
       "50%        1.000000  \n",
       "75%        3.000000  \n",
       "max       36.000000  "
      ]
     },
     "execution_count": 3,
     "metadata": {},
     "output_type": "execute_result"
    }
   ],
   "source": [
    "from pandas import read_csv\n",
    "data = read_csv(\"ModelingChallenge/data.csv\")\n",
    "data.describe()"
   ]
  },
  {
   "cell_type": "code",
   "execution_count": 4,
   "metadata": {},
   "outputs": [
    {
     "data": {
      "text/plain": [
       "Index(['id', 'loan_amnt', 'term', 'installment', 'emp_length',\n",
       "       'home_ownership', 'annual_inc', 'verification_status', 'issue_d',\n",
       "       'loan_status', 'purpose', 'addr_state', 'dti', 'earliest_cr_line',\n",
       "       'fico_range_low', 'fico_range_high', 'last_credit_pull_d',\n",
       "       'last_fico_range_high', 'last_fico_range_low', 'acc_now_delinq',\n",
       "       'delinq_amnt', 'delinq_2yrs', 'mths_since_last_delinq',\n",
       "       'mths_since_last_record', 'inq_last_6mths', 'inq_last_12m'],\n",
       "      dtype='object')"
      ]
     },
     "execution_count": 4,
     "metadata": {},
     "output_type": "execute_result"
    }
   ],
   "source": [
    "data.columns"
   ]
  },
  {
   "cell_type": "code",
   "execution_count": 5,
   "metadata": {},
   "outputs": [
    {
     "data": {
      "text/plain": [
       "Current       62429\n",
       "Fully Paid    11534\n",
       "Default        6037\n",
       "Name: loan_status, dtype: int64"
      ]
     },
     "execution_count": 5,
     "metadata": {},
     "output_type": "execute_result"
    }
   ],
   "source": [
    "data['loan_status'].value_counts()"
   ]
  },
  {
   "cell_type": "markdown",
   "metadata": {},
   "source": [
    "# Question 1"
   ]
  },
  {
   "cell_type": "markdown",
   "metadata": {},
   "source": [
    "### I am going to pursue the binary classification approach. I believe that this technique versus the multi-class classification will allow for increased statistical power (i.e., more training data) to isolate those nearing default from the 62k 'Current' population."
   ]
  },
  {
   "cell_type": "code",
   "execution_count": 10,
   "metadata": {},
   "outputs": [],
   "source": [
    "#### Isolate the testing/training dataset. We can only use the \n",
    "#### data with defined labels in the binary-classification approach\n",
    "testtrainData = data[data['loan_status'].isin(['Fully Paid', 'Default'])].copy(deep=True)"
   ]
  },
  {
   "cell_type": "code",
   "execution_count": 19,
   "metadata": {},
   "outputs": [],
   "source": [
    "def label(x):\n",
    "    if x == \"Default\":\n",
    "        return 1\n",
    "    elif x == \"Fully Paid\":\n",
    "        return 0\n",
    "    else:\n",
    "        raise ValueError(\"Unknown entry in the labeled dependent data\")\n",
    "y = testtrainData['loan_status'].apply(label) ## y is the dependent data also known as the target variable"
   ]
  },
  {
   "cell_type": "code",
   "execution_count": 433,
   "metadata": {},
   "outputs": [],
   "source": [
    "## X is the predictor data also known collectively as the feature dataset\n",
    "X = testtrainData.drop(['loan_status'], axis=1)"
   ]
  },
  {
   "cell_type": "code",
   "execution_count": 434,
   "metadata": {},
   "outputs": [
    {
     "data": {
      "text/plain": [
       "Index(['id', 'loan_amnt', 'term', 'installment', 'emp_length',\n",
       "       'home_ownership', 'annual_inc', 'verification_status', 'issue_d',\n",
       "       'purpose', 'addr_state', 'dti', 'earliest_cr_line', 'fico_range_low',\n",
       "       'fico_range_high', 'last_credit_pull_d', 'last_fico_range_high',\n",
       "       'last_fico_range_low', 'acc_now_delinq', 'delinq_amnt', 'delinq_2yrs',\n",
       "       'mths_since_last_delinq', 'mths_since_last_record', 'inq_last_6mths',\n",
       "       'inq_last_12m'],\n",
       "      dtype='object')"
      ]
     },
     "execution_count": 434,
     "metadata": {},
     "output_type": "execute_result"
    }
   ],
   "source": [
    "X.columns"
   ]
  },
  {
   "cell_type": "code",
   "execution_count": 435,
   "metadata": {},
   "outputs": [
    {
     "data": {
      "text/html": [
       "<div>\n",
       "<style scoped>\n",
       "    .dataframe tbody tr th:only-of-type {\n",
       "        vertical-align: middle;\n",
       "    }\n",
       "\n",
       "    .dataframe tbody tr th {\n",
       "        vertical-align: top;\n",
       "    }\n",
       "\n",
       "    .dataframe thead th {\n",
       "        text-align: right;\n",
       "    }\n",
       "</style>\n",
       "<table border=\"1\" class=\"dataframe\">\n",
       "  <thead>\n",
       "    <tr style=\"text-align: right;\">\n",
       "      <th></th>\n",
       "      <th>id</th>\n",
       "      <th>loan_amnt</th>\n",
       "      <th>term</th>\n",
       "      <th>installment</th>\n",
       "      <th>emp_length</th>\n",
       "      <th>home_ownership</th>\n",
       "      <th>annual_inc</th>\n",
       "      <th>verification_status</th>\n",
       "      <th>issue_d</th>\n",
       "      <th>purpose</th>\n",
       "      <th>...</th>\n",
       "      <th>last_credit_pull_d</th>\n",
       "      <th>last_fico_range_high</th>\n",
       "      <th>last_fico_range_low</th>\n",
       "      <th>acc_now_delinq</th>\n",
       "      <th>delinq_amnt</th>\n",
       "      <th>delinq_2yrs</th>\n",
       "      <th>mths_since_last_delinq</th>\n",
       "      <th>mths_since_last_record</th>\n",
       "      <th>inq_last_6mths</th>\n",
       "      <th>inq_last_12m</th>\n",
       "    </tr>\n",
       "  </thead>\n",
       "  <tbody>\n",
       "    <tr>\n",
       "      <th>3</th>\n",
       "      <td>54027458</td>\n",
       "      <td>14000</td>\n",
       "      <td>36 months</td>\n",
       "      <td>439.88</td>\n",
       "      <td>5 years</td>\n",
       "      <td>RENT</td>\n",
       "      <td>50000.0</td>\n",
       "      <td>Source Verified</td>\n",
       "      <td>Jul-2015</td>\n",
       "      <td>debt_consolidation</td>\n",
       "      <td>...</td>\n",
       "      <td>Oct-2016</td>\n",
       "      <td>749</td>\n",
       "      <td>745</td>\n",
       "      <td>0</td>\n",
       "      <td>0</td>\n",
       "      <td>0</td>\n",
       "      <td>NaN</td>\n",
       "      <td>42.0</td>\n",
       "      <td>0</td>\n",
       "      <td>NaN</td>\n",
       "    </tr>\n",
       "    <tr>\n",
       "      <th>4</th>\n",
       "      <td>72594974</td>\n",
       "      <td>7500</td>\n",
       "      <td>36 months</td>\n",
       "      <td>252.67</td>\n",
       "      <td>3 years</td>\n",
       "      <td>MORTGAGE</td>\n",
       "      <td>68000.0</td>\n",
       "      <td>Not Verified</td>\n",
       "      <td>Feb-2016</td>\n",
       "      <td>debt_consolidation</td>\n",
       "      <td>...</td>\n",
       "      <td>Dec-2016</td>\n",
       "      <td>709</td>\n",
       "      <td>705</td>\n",
       "      <td>0</td>\n",
       "      <td>0</td>\n",
       "      <td>0</td>\n",
       "      <td>NaN</td>\n",
       "      <td>NaN</td>\n",
       "      <td>2</td>\n",
       "      <td>5.0</td>\n",
       "    </tr>\n",
       "    <tr>\n",
       "      <th>6</th>\n",
       "      <td>71061534</td>\n",
       "      <td>25000</td>\n",
       "      <td>36 months</td>\n",
       "      <td>870.44</td>\n",
       "      <td>5 years</td>\n",
       "      <td>RENT</td>\n",
       "      <td>55000.0</td>\n",
       "      <td>Verified</td>\n",
       "      <td>Feb-2016</td>\n",
       "      <td>other</td>\n",
       "      <td>...</td>\n",
       "      <td>Nov-2016</td>\n",
       "      <td>759</td>\n",
       "      <td>755</td>\n",
       "      <td>0</td>\n",
       "      <td>0</td>\n",
       "      <td>0</td>\n",
       "      <td>NaN</td>\n",
       "      <td>NaN</td>\n",
       "      <td>1</td>\n",
       "      <td>3.0</td>\n",
       "    </tr>\n",
       "    <tr>\n",
       "      <th>7</th>\n",
       "      <td>54474095</td>\n",
       "      <td>12000</td>\n",
       "      <td>36 months</td>\n",
       "      <td>382.55</td>\n",
       "      <td>5 years</td>\n",
       "      <td>RENT</td>\n",
       "      <td>30000.0</td>\n",
       "      <td>Not Verified</td>\n",
       "      <td>Jul-2015</td>\n",
       "      <td>debt_consolidation</td>\n",
       "      <td>...</td>\n",
       "      <td>Oct-2015</td>\n",
       "      <td>749</td>\n",
       "      <td>745</td>\n",
       "      <td>0</td>\n",
       "      <td>0</td>\n",
       "      <td>0</td>\n",
       "      <td>NaN</td>\n",
       "      <td>NaN</td>\n",
       "      <td>0</td>\n",
       "      <td>NaN</td>\n",
       "    </tr>\n",
       "    <tr>\n",
       "      <th>21</th>\n",
       "      <td>45704513</td>\n",
       "      <td>30000</td>\n",
       "      <td>60 months</td>\n",
       "      <td>677.85</td>\n",
       "      <td>10+ years</td>\n",
       "      <td>RENT</td>\n",
       "      <td>84000.0</td>\n",
       "      <td>Verified</td>\n",
       "      <td>Apr-2015</td>\n",
       "      <td>debt_consolidation</td>\n",
       "      <td>...</td>\n",
       "      <td>Oct-2016</td>\n",
       "      <td>669</td>\n",
       "      <td>665</td>\n",
       "      <td>0</td>\n",
       "      <td>0</td>\n",
       "      <td>0</td>\n",
       "      <td>NaN</td>\n",
       "      <td>NaN</td>\n",
       "      <td>0</td>\n",
       "      <td>NaN</td>\n",
       "    </tr>\n",
       "  </tbody>\n",
       "</table>\n",
       "<p>5 rows × 25 columns</p>\n",
       "</div>"
      ],
      "text/plain": [
       "          id  loan_amnt       term  installment emp_length home_ownership  \\\n",
       "3   54027458      14000  36 months       439.88    5 years           RENT   \n",
       "4   72594974       7500  36 months       252.67    3 years       MORTGAGE   \n",
       "6   71061534      25000  36 months       870.44    5 years           RENT   \n",
       "7   54474095      12000  36 months       382.55    5 years           RENT   \n",
       "21  45704513      30000  60 months       677.85  10+ years           RENT   \n",
       "\n",
       "    annual_inc verification_status   issue_d             purpose  ...  \\\n",
       "3      50000.0     Source Verified  Jul-2015  debt_consolidation  ...   \n",
       "4      68000.0        Not Verified  Feb-2016  debt_consolidation  ...   \n",
       "6      55000.0            Verified  Feb-2016               other  ...   \n",
       "7      30000.0        Not Verified  Jul-2015  debt_consolidation  ...   \n",
       "21     84000.0            Verified  Apr-2015  debt_consolidation  ...   \n",
       "\n",
       "   last_credit_pull_d  last_fico_range_high last_fico_range_low  \\\n",
       "3            Oct-2016                   749                 745   \n",
       "4            Dec-2016                   709                 705   \n",
       "6            Nov-2016                   759                 755   \n",
       "7            Oct-2015                   749                 745   \n",
       "21           Oct-2016                   669                 665   \n",
       "\n",
       "    acc_now_delinq  delinq_amnt delinq_2yrs  mths_since_last_delinq  \\\n",
       "3                0            0           0                     NaN   \n",
       "4                0            0           0                     NaN   \n",
       "6                0            0           0                     NaN   \n",
       "7                0            0           0                     NaN   \n",
       "21               0            0           0                     NaN   \n",
       "\n",
       "    mths_since_last_record  inq_last_6mths  inq_last_12m  \n",
       "3                     42.0               0           NaN  \n",
       "4                      NaN               2           5.0  \n",
       "6                      NaN               1           3.0  \n",
       "7                      NaN               0           NaN  \n",
       "21                     NaN               0           NaN  \n",
       "\n",
       "[5 rows x 25 columns]"
      ]
     },
     "execution_count": 435,
     "metadata": {},
     "output_type": "execute_result"
    }
   ],
   "source": [
    "X.head()"
   ]
  },
  {
   "cell_type": "markdown",
   "metadata": {},
   "source": [
    "# Question 2"
   ]
  },
  {
   "cell_type": "code",
   "execution_count": 436,
   "metadata": {},
   "outputs": [],
   "source": [
    "# There are several categorical variables that require encoding to be useful in a machine learning model.\n",
    "# There are also several variables with NaN or other non-numeric, non-categorical data that must be cleaned."
   ]
  },
  {
   "cell_type": "code",
   "execution_count": 437,
   "metadata": {},
   "outputs": [],
   "source": [
    "## Notes: I suppose defaulting on a larger loan is much worse than defaulting on a small loan.\n",
    "## Perhaps the multi-class approach is worth considering..."
   ]
  },
  {
   "cell_type": "code",
   "execution_count": 438,
   "metadata": {},
   "outputs": [],
   "source": [
    "## Will clean the data column by column"
   ]
  },
  {
   "cell_type": "markdown",
   "metadata": {},
   "source": [
    "## Find out where the NAs are"
   ]
  },
  {
   "cell_type": "code",
   "execution_count": 439,
   "metadata": {},
   "outputs": [
    {
     "name": "stdout",
     "output_type": "stream",
     "text": [
      "emp_length Has NA\n",
      "mths_since_last_delinq Has NA\n",
      "mths_since_last_record Has NA\n",
      "inq_last_12m Has NA\n"
     ]
    }
   ],
   "source": [
    "for col in X:\n",
    "    if sum(X[col].isna()) > 0:\n",
    "        print(col,\"Has NA\")"
   ]
  },
  {
   "cell_type": "markdown",
   "metadata": {},
   "source": [
    "## Found out where the Categorical variables are"
   ]
  },
  {
   "cell_type": "code",
   "execution_count": 440,
   "metadata": {},
   "outputs": [
    {
     "data": {
      "text/plain": [
       "Index(['term', 'emp_length', 'home_ownership', 'verification_status',\n",
       "       'issue_d', 'purpose', 'addr_state', 'earliest_cr_line',\n",
       "       'last_credit_pull_d'],\n",
       "      dtype='object')"
      ]
     },
     "execution_count": 440,
     "metadata": {},
     "output_type": "execute_result"
    }
   ],
   "source": [
    "## Need to encode the following columns (if we want to use them)\n",
    "X.columns[X.dtypes == 'object']"
   ]
  },
  {
   "cell_type": "code",
   "execution_count": 441,
   "metadata": {},
   "outputs": [],
   "source": [
    "replacementData = {}"
   ]
  },
  {
   "cell_type": "markdown",
   "metadata": {},
   "source": [
    "#### Term"
   ]
  },
  {
   "cell_type": "code",
   "execution_count": 442,
   "metadata": {},
   "outputs": [
    {
     "name": "stdout",
     "output_type": "stream",
     "text": [
      "36 months    12281\n",
      "60 months     5290\n",
      "Name: term, dtype: int64\n"
     ]
    }
   ],
   "source": [
    "print(X['term'].value_counts())\n",
    "le = preprocessing.LabelEncoder()\n",
    "retval = X[['term']].apply(le.fit_transform)\n",
    "replacementData[\"term\"] = retval.copy(deep=True)"
   ]
  },
  {
   "cell_type": "markdown",
   "metadata": {},
   "source": [
    "#### emp_length"
   ]
  },
  {
   "cell_type": "code",
   "execution_count": 443,
   "metadata": {},
   "outputs": [],
   "source": [
    "## Employment length is really an ordered variable. Will return it to it's numerical state.\n",
    "## For the missing employment data, I will try a few different things including an indicator variable"
   ]
  },
  {
   "cell_type": "code",
   "execution_count": 444,
   "metadata": {},
   "outputs": [],
   "source": [
    "def isEmploymentLengthNA(x):\n",
    "    if isinstance(x, float):\n",
    "        return 1\n",
    "    return 0\n",
    "def getEmploymentLength(x):\n",
    "    ## Returning mean of employment distribution if missing data\n",
    "    ## The mean appears to be 6.07 years.\n",
    "    if isinstance(x, str):\n",
    "        tmp = x.replace(\"+\", \"\").strip()\n",
    "        tmp = tmp.replace(\"<\", \"\").strip()\n",
    "        tmp = tmp.split(\" \")[0]\n",
    "        return float(tmp)\n",
    "    else:\n",
    "        return 6.07\n",
    "\n",
    "emp_length    = X['emp_length'].apply(getEmploymentLength)\n",
    "emp_length_na = X['emp_length'].apply(isEmploymentLengthNA)\n",
    "retval = DataFrame([emp_length_na, emp_length]).T   \n",
    "retval.columns = [\"emp_length_NA\", \"emp_length\"]\n",
    "replacementData[\"emp_length\"] = retval.copy(deep=True)"
   ]
  },
  {
   "cell_type": "markdown",
   "metadata": {},
   "source": [
    "#### home_ownership"
   ]
  },
  {
   "cell_type": "code",
   "execution_count": 445,
   "metadata": {},
   "outputs": [
    {
     "name": "stdout",
     "output_type": "stream",
     "text": [
      "MORTGAGE    8710\n",
      "RENT        6841\n",
      "OWN         2020\n",
      "Name: home_ownership, dtype: int64\n"
     ]
    }
   ],
   "source": [
    "print(X['home_ownership'].value_counts())\n",
    "le = preprocessing.LabelEncoder()\n",
    "leX = X[['home_ownership']].apply(le.fit_transform)\n",
    "enc = preprocessing.OneHotEncoder()\n",
    "enc.fit(leX)\n",
    "onehotlabels = enc.transform(leX)\n",
    "colnames = [\"home_ownership_{0}\".format(val.replace(\" \", \"\")) for val in list(le.classes_)]\n",
    "encdata = DataFrame(onehotlabels.toarray())\n",
    "encdata.columns = colnames\n",
    "replacementData[\"home_ownership\"] = encdata.copy(deep=True)"
   ]
  },
  {
   "cell_type": "markdown",
   "metadata": {},
   "source": [
    "#### verification_status"
   ]
  },
  {
   "cell_type": "code",
   "execution_count": 446,
   "metadata": {},
   "outputs": [
    {
     "name": "stdout",
     "output_type": "stream",
     "text": [
      "Source Verified    7361\n",
      "Verified           5627\n",
      "Not Verified       4583\n",
      "Name: verification_status, dtype: int64\n"
     ]
    }
   ],
   "source": [
    "print(X['verification_status'].value_counts())\n",
    "le = preprocessing.LabelEncoder()\n",
    "leX = X[['verification_status']].apply(le.fit_transform)\n",
    "enc = preprocessing.OneHotEncoder()\n",
    "enc.fit(leX)\n",
    "onehotlabels = enc.transform(leX)\n",
    "colnames = [\"verification_status_{0}\".format(val.replace(\" \", \"\")) for val in list(le.classes_)]\n",
    "encdata = DataFrame(onehotlabels.toarray())\n",
    "encdata.columns = colnames\n",
    "replacementData[\"verification_status\"] = encdata.copy(deep=True)"
   ]
  },
  {
   "cell_type": "markdown",
   "metadata": {},
   "source": [
    "#### purpose"
   ]
  },
  {
   "cell_type": "code",
   "execution_count": 447,
   "metadata": {},
   "outputs": [],
   "source": [
    "## will likely need to consolidate some of the categories given the statistics\n",
    "## I am going to consolidate everything below 1000 into a new other category"
   ]
  },
  {
   "cell_type": "code",
   "execution_count": 448,
   "metadata": {},
   "outputs": [
    {
     "name": "stderr",
     "output_type": "stream",
     "text": [
      "/Users/tgadfort/opt/anaconda3/envs/py37/lib/python3.7/site-packages/ipykernel_launcher.py:2: SettingWithCopyWarning: \n",
      "A value is trying to be set on a copy of a slice from a DataFrame\n",
      "\n",
      "See the caveats in the documentation: https://pandas.pydata.org/pandas-docs/stable/user_guide/indexing.html#returning-a-view-versus-a-copy\n",
      "  \n"
     ]
    },
    {
     "data": {
      "text/plain": [
       "3        debt_consolidation\n",
       "4        debt_consolidation\n",
       "6                     other\n",
       "7        debt_consolidation\n",
       "21       debt_consolidation\n",
       "                ...        \n",
       "79970           credit_card\n",
       "79975                 other\n",
       "79976    debt_consolidation\n",
       "79983                 other\n",
       "79991                 extra\n",
       "Name: purpose, Length: 17571, dtype: object"
      ]
     },
     "execution_count": 448,
     "metadata": {},
     "output_type": "execute_result"
    }
   ],
   "source": [
    "extra = ['major_purchase', 'medical', 'small_business', 'car', 'moving', 'vacation', 'house', 'renewable_energy', 'wedding']\n",
    "X['purpose'][X['purpose'].isin(extra)] = 'extra'\n",
    "X['purpose']"
   ]
  },
  {
   "cell_type": "code",
   "execution_count": 449,
   "metadata": {},
   "outputs": [
    {
     "name": "stdout",
     "output_type": "stream",
     "text": [
      "debt_consolidation    10761\n",
      "credit_card            3354\n",
      "extra                  1326\n",
      "home_improvement       1098\n",
      "other                  1032\n",
      "Name: purpose, dtype: int64\n"
     ]
    }
   ],
   "source": [
    "print(X['purpose'].value_counts())\n",
    "le = preprocessing.LabelEncoder()\n",
    "leX = X[['purpose']].apply(le.fit_transform)\n",
    "enc = preprocessing.OneHotEncoder()\n",
    "enc.fit(leX)\n",
    "onehotlabels = enc.transform(leX)\n",
    "colnames = [\"purpose_{0}\".format(val.replace(\" \", \"\")) for val in list(le.classes_)]\n",
    "encdata = DataFrame(onehotlabels.toarray())\n",
    "encdata.columns = colnames\n",
    "replacementData[\"purpose\"] = encdata.copy(deep=True)"
   ]
  },
  {
   "cell_type": "code",
   "execution_count": null,
   "metadata": {},
   "outputs": [],
   "source": []
  },
  {
   "cell_type": "markdown",
   "metadata": {},
   "source": [
    "#### earliest_cr_line, last_credit_pull_d, issue_d"
   ]
  },
  {
   "cell_type": "code",
   "execution_count": 450,
   "metadata": {},
   "outputs": [],
   "source": [
    "## These is really a temporal variable. Will need to convert it into something usable."
   ]
  },
  {
   "cell_type": "code",
   "execution_count": 451,
   "metadata": {},
   "outputs": [],
   "source": [
    "from pandas import to_datetime\n",
    "X['earliest_cr_line'] = to_datetime(X['earliest_cr_line'])\n",
    "X['last_credit_pull_d'] = to_datetime(X['last_credit_pull_d'])\n",
    "X['issue_d'] = to_datetime(X['issue_d'])\n",
    "\n",
    "nowDate = to_datetime('01/23/2017')\n",
    "def getDays(val):\n",
    "    return val.days\n",
    "\n",
    "X['time_since_first_credit'] = (nowDate - X['earliest_cr_line']).apply(getDays)\n",
    "X['time_since_credit_pull'] = (nowDate - X['last_credit_pull_d']).apply(getDays)\n",
    "X['time_since_credit_issue'] = (X['last_credit_pull_d'] - X['issue_d']).apply(getDays)\n",
    "X.drop(['earliest_cr_line', 'last_credit_pull_d', 'issue_d'], axis=1, inplace=True)"
   ]
  },
  {
   "cell_type": "code",
   "execution_count": 454,
   "metadata": {},
   "outputs": [
    {
     "data": {
      "text/plain": [
       "count    17571.000000\n",
       "mean       128.094588\n",
       "std        120.896906\n",
       "min         53.000000\n",
       "25%         53.000000\n",
       "50%         53.000000\n",
       "75%        144.000000\n",
       "max        784.000000\n",
       "Name: time_since_credit_pull, dtype: float64"
      ]
     },
     "execution_count": 454,
     "metadata": {},
     "output_type": "execute_result"
    }
   ],
   "source": [
    "X['time_since_credit_pull'].describe()"
   ]
  },
  {
   "cell_type": "markdown",
   "metadata": {},
   "source": [
    "#### Fill Average FICO Scores"
   ]
  },
  {
   "cell_type": "code",
   "execution_count": 408,
   "metadata": {},
   "outputs": [],
   "source": [
    "lastFICO   = DataFrame(X[['last_fico_range_high', 'last_fico_range_low']].mean(axis=1))\n",
    "lastFICO.columns = [\"last_fico\"]\n",
    "borrowFICO = DataFrame(X[['fico_range_high', 'fico_range_low']].mean(axis=1))\n",
    "borrowFICO.columns = [\"fico\"]\n",
    "\n",
    "replacementData[\"last_fico_range\"] = lastFICO.copy(deep=True)\n",
    "replacementData[\"fico_range\"] = borrowFICO.copy(deep=True)"
   ]
  },
  {
   "cell_type": "markdown",
   "metadata": {},
   "source": [
    "#### mths_since_last_delinq, mths_since_last_record Has, inq_last_12m Has NA"
   ]
  },
  {
   "cell_type": "markdown",
   "metadata": {},
   "source": [
    "#### These three variables are NA and I believe they are NA because there is no activity and thus no time to associate with that activity. I will set them equal to the `time_since_credit_issue` (in months)"
   ]
  },
  {
   "cell_type": "code",
   "execution_count": 409,
   "metadata": {},
   "outputs": [
    {
     "name": "stderr",
     "output_type": "stream",
     "text": [
      "/Users/tgadfort/opt/anaconda3/envs/py37/lib/python3.7/site-packages/ipykernel_launcher.py:1: SettingWithCopyWarning: \n",
      "A value is trying to be set on a copy of a slice from a DataFrame\n",
      "\n",
      "See the caveats in the documentation: https://pandas.pydata.org/pandas-docs/stable/user_guide/indexing.html#returning-a-view-versus-a-copy\n",
      "  \"\"\"Entry point for launching an IPython kernel.\n"
     ]
    }
   ],
   "source": [
    "X['mths_since_last_delinq'][X['mths_since_last_delinq'].isna()] = X['time_since_credit_issue']/30\n",
    "## I am ignoring the inq_last_12m and mths_since_last_record for now."
   ]
  },
  {
   "cell_type": "code",
   "execution_count": 410,
   "metadata": {},
   "outputs": [
    {
     "data": {
      "text/plain": [
       "3        15.266667\n",
       "4        10.133333\n",
       "6         9.133333\n",
       "7         3.066667\n",
       "21       18.300000\n",
       "           ...    \n",
       "79970    14.233333\n",
       "79975    23.333333\n",
       "79976    65.000000\n",
       "79983    15.266667\n",
       "79991    47.000000\n",
       "Name: mths_since_last_delinq, Length: 17571, dtype: float64"
      ]
     },
     "execution_count": 410,
     "metadata": {},
     "output_type": "execute_result"
    }
   ],
   "source": [
    "X['mths_since_last_delinq']"
   ]
  },
  {
   "cell_type": "code",
   "execution_count": null,
   "metadata": {},
   "outputs": [],
   "source": []
  },
  {
   "cell_type": "markdown",
   "metadata": {},
   "source": [
    "## Final Independent Data (X)"
   ]
  },
  {
   "cell_type": "code",
   "execution_count": 411,
   "metadata": {},
   "outputs": [
    {
     "data": {
      "text/plain": [
       "Index(['id', 'loan_amnt', 'term', 'installment', 'emp_length',\n",
       "       'home_ownership', 'annual_inc', 'verification_status', 'purpose',\n",
       "       'addr_state', 'dti', 'fico_range_low', 'fico_range_high',\n",
       "       'last_fico_range_high', 'last_fico_range_low', 'acc_now_delinq',\n",
       "       'delinq_amnt', 'delinq_2yrs', 'mths_since_last_delinq',\n",
       "       'mths_since_last_record', 'inq_last_6mths', 'inq_last_12m',\n",
       "       'time_since_first_credit', 'time_since_credit_pull',\n",
       "       'time_since_credit_issue'],\n",
       "      dtype='object')"
      ]
     },
     "execution_count": 411,
     "metadata": {},
     "output_type": "execute_result"
    }
   ],
   "source": [
    "X.columns"
   ]
  },
  {
   "cell_type": "code",
   "execution_count": null,
   "metadata": {},
   "outputs": [],
   "source": []
  },
  {
   "cell_type": "code",
   "execution_count": 415,
   "metadata": {},
   "outputs": [],
   "source": [
    "useTime = False\n",
    "if useTime:\n",
    "    X = X[['loan_amnt', 'term', 'installment', 'emp_length', 'home_ownership', 'annual_inc', 'verification_status', 'purpose', 'dti', 'fico_range_low', 'fico_range_high', 'last_fico_range_high',\n",
    "           'last_fico_range_low', 'acc_now_delinq', 'delinq_amnt', 'delinq_2yrs', 'mths_since_last_delinq', 'inq_last_6mths', 'time_since_first_credit', 'time_since_credit_pull', 'time_since_credit_issue']]\n",
    "else:\n",
    "    X = X[['loan_amnt', 'term', 'installment', 'emp_length', 'home_ownership', 'annual_inc', 'verification_status', 'purpose', 'dti', 'fico_range_low', 'fico_range_high', 'last_fico_range_high',\n",
    "           'last_fico_range_low', 'acc_now_delinq', 'delinq_amnt', 'delinq_2yrs', 'mths_since_last_delinq', 'inq_last_6mths']]\n",
    "          #, 'time_since_first_credit', 'time_since_credit_pull', 'time_since_credit_issue']]"
   ]
  },
  {
   "cell_type": "markdown",
   "metadata": {},
   "source": [
    "## Replacing Data"
   ]
  },
  {
   "cell_type": "code",
   "execution_count": 416,
   "metadata": {},
   "outputs": [
    {
     "data": {
      "text/plain": [
       "dict_keys(['term', 'emp_length', 'home_ownership', 'verification_status', 'purpose', 'last_fico_range', 'fico_range'])"
      ]
     },
     "execution_count": 416,
     "metadata": {},
     "output_type": "execute_result"
    }
   ],
   "source": [
    "replacementData.keys()"
   ]
  },
  {
   "cell_type": "code",
   "execution_count": 417,
   "metadata": {},
   "outputs": [],
   "source": [
    "X.drop(['term'], axis=1, inplace=True)\n",
    "X = X.join(replacementData['term'])\n",
    "\n",
    "X.drop(['emp_length'], axis=1, inplace=True)\n",
    "X = X.join(replacementData['emp_length'])\n",
    "\n",
    "X.drop(['home_ownership'], axis=1, inplace=True)\n",
    "X = X.join(replacementData['home_ownership'])\n",
    "\n",
    "X.drop(['verification_status'], axis=1, inplace=True)\n",
    "X = X.join(replacementData['verification_status'])\n",
    "\n",
    "X.drop(['purpose'], axis=1, inplace=True)\n",
    "X = X.join(replacementData['purpose'])\n",
    "\n",
    "X.drop(['last_fico_range_high', 'last_fico_range_low'], axis=1, inplace=True)\n",
    "X = X.join(replacementData['last_fico_range'])\n",
    "\n",
    "X.drop(['fico_range_high', 'fico_range_low'], axis=1, inplace=True)\n",
    "X = X.join(replacementData['fico_range'])"
   ]
  },
  {
   "cell_type": "code",
   "execution_count": 418,
   "metadata": {},
   "outputs": [],
   "source": [
    "X.fillna(0, inplace=True)"
   ]
  },
  {
   "cell_type": "code",
   "execution_count": 419,
   "metadata": {},
   "outputs": [
    {
     "data": {
      "text/html": [
       "<div>\n",
       "<style scoped>\n",
       "    .dataframe tbody tr th:only-of-type {\n",
       "        vertical-align: middle;\n",
       "    }\n",
       "\n",
       "    .dataframe tbody tr th {\n",
       "        vertical-align: top;\n",
       "    }\n",
       "\n",
       "    .dataframe thead th {\n",
       "        text-align: right;\n",
       "    }\n",
       "</style>\n",
       "<table border=\"1\" class=\"dataframe\">\n",
       "  <thead>\n",
       "    <tr style=\"text-align: right;\">\n",
       "      <th></th>\n",
       "      <th>loan_amnt</th>\n",
       "      <th>installment</th>\n",
       "      <th>annual_inc</th>\n",
       "      <th>dti</th>\n",
       "      <th>acc_now_delinq</th>\n",
       "      <th>delinq_amnt</th>\n",
       "      <th>delinq_2yrs</th>\n",
       "      <th>mths_since_last_delinq</th>\n",
       "      <th>inq_last_6mths</th>\n",
       "      <th>term</th>\n",
       "      <th>...</th>\n",
       "      <th>verification_status_NotVerified</th>\n",
       "      <th>verification_status_SourceVerified</th>\n",
       "      <th>verification_status_Verified</th>\n",
       "      <th>purpose_credit_card</th>\n",
       "      <th>purpose_debt_consolidation</th>\n",
       "      <th>purpose_extra</th>\n",
       "      <th>purpose_home_improvement</th>\n",
       "      <th>purpose_other</th>\n",
       "      <th>last_fico</th>\n",
       "      <th>fico</th>\n",
       "    </tr>\n",
       "  </thead>\n",
       "  <tbody>\n",
       "    <tr>\n",
       "      <th>count</th>\n",
       "      <td>17571.000000</td>\n",
       "      <td>17571.000000</td>\n",
       "      <td>1.757100e+04</td>\n",
       "      <td>17571.000000</td>\n",
       "      <td>17571.000000</td>\n",
       "      <td>17571.000000</td>\n",
       "      <td>17571.000000</td>\n",
       "      <td>17571.000000</td>\n",
       "      <td>17571.000000</td>\n",
       "      <td>17571.000000</td>\n",
       "      <td>...</td>\n",
       "      <td>17571.000000</td>\n",
       "      <td>17571.000000</td>\n",
       "      <td>17571.00000</td>\n",
       "      <td>17571.000000</td>\n",
       "      <td>17571.000000</td>\n",
       "      <td>17571.000000</td>\n",
       "      <td>17571.000000</td>\n",
       "      <td>17571.000000</td>\n",
       "      <td>17571.000000</td>\n",
       "      <td>17571.000000</td>\n",
       "    </tr>\n",
       "    <tr>\n",
       "      <th>mean</th>\n",
       "      <td>15024.436572</td>\n",
       "      <td>450.088736</td>\n",
       "      <td>7.742740e+04</td>\n",
       "      <td>19.588330</td>\n",
       "      <td>0.007285</td>\n",
       "      <td>21.605600</td>\n",
       "      <td>0.351830</td>\n",
       "      <td>24.345122</td>\n",
       "      <td>0.679927</td>\n",
       "      <td>0.301064</td>\n",
       "      <td>...</td>\n",
       "      <td>0.057481</td>\n",
       "      <td>0.094474</td>\n",
       "      <td>0.07279</td>\n",
       "      <td>0.042172</td>\n",
       "      <td>0.140003</td>\n",
       "      <td>0.016448</td>\n",
       "      <td>0.013488</td>\n",
       "      <td>0.012634</td>\n",
       "      <td>658.084884</td>\n",
       "      <td>695.427267</td>\n",
       "    </tr>\n",
       "    <tr>\n",
       "      <th>std</th>\n",
       "      <td>8860.824284</td>\n",
       "      <td>263.897607</td>\n",
       "      <td>1.001103e+05</td>\n",
       "      <td>75.812815</td>\n",
       "      <td>0.087678</td>\n",
       "      <td>1009.622114</td>\n",
       "      <td>0.967926</td>\n",
       "      <td>19.715256</td>\n",
       "      <td>0.949430</td>\n",
       "      <td>0.458734</td>\n",
       "      <td>...</td>\n",
       "      <td>0.232766</td>\n",
       "      <td>0.292495</td>\n",
       "      <td>0.25980</td>\n",
       "      <td>0.200987</td>\n",
       "      <td>0.347000</td>\n",
       "      <td>0.127193</td>\n",
       "      <td>0.115356</td>\n",
       "      <td>0.111694</td>\n",
       "      <td>102.005692</td>\n",
       "      <td>31.282230</td>\n",
       "    </tr>\n",
       "    <tr>\n",
       "      <th>min</th>\n",
       "      <td>1000.000000</td>\n",
       "      <td>30.120000</td>\n",
       "      <td>0.000000e+00</td>\n",
       "      <td>0.000000</td>\n",
       "      <td>0.000000</td>\n",
       "      <td>0.000000</td>\n",
       "      <td>0.000000</td>\n",
       "      <td>-2.033333</td>\n",
       "      <td>0.000000</td>\n",
       "      <td>0.000000</td>\n",
       "      <td>...</td>\n",
       "      <td>0.000000</td>\n",
       "      <td>0.000000</td>\n",
       "      <td>0.00000</td>\n",
       "      <td>0.000000</td>\n",
       "      <td>0.000000</td>\n",
       "      <td>0.000000</td>\n",
       "      <td>0.000000</td>\n",
       "      <td>0.000000</td>\n",
       "      <td>0.000000</td>\n",
       "      <td>662.000000</td>\n",
       "    </tr>\n",
       "    <tr>\n",
       "      <th>25%</th>\n",
       "      <td>8000.000000</td>\n",
       "      <td>258.705000</td>\n",
       "      <td>4.700000e+04</td>\n",
       "      <td>12.280000</td>\n",
       "      <td>0.000000</td>\n",
       "      <td>0.000000</td>\n",
       "      <td>0.000000</td>\n",
       "      <td>10.166667</td>\n",
       "      <td>0.000000</td>\n",
       "      <td>0.000000</td>\n",
       "      <td>...</td>\n",
       "      <td>0.000000</td>\n",
       "      <td>0.000000</td>\n",
       "      <td>0.00000</td>\n",
       "      <td>0.000000</td>\n",
       "      <td>0.000000</td>\n",
       "      <td>0.000000</td>\n",
       "      <td>0.000000</td>\n",
       "      <td>0.000000</td>\n",
       "      <td>612.000000</td>\n",
       "      <td>672.000000</td>\n",
       "    </tr>\n",
       "    <tr>\n",
       "      <th>50%</th>\n",
       "      <td>13000.000000</td>\n",
       "      <td>385.910000</td>\n",
       "      <td>6.500000e+04</td>\n",
       "      <td>18.440000</td>\n",
       "      <td>0.000000</td>\n",
       "      <td>0.000000</td>\n",
       "      <td>0.000000</td>\n",
       "      <td>18.000000</td>\n",
       "      <td>0.000000</td>\n",
       "      <td>0.000000</td>\n",
       "      <td>...</td>\n",
       "      <td>0.000000</td>\n",
       "      <td>0.000000</td>\n",
       "      <td>0.00000</td>\n",
       "      <td>0.000000</td>\n",
       "      <td>0.000000</td>\n",
       "      <td>0.000000</td>\n",
       "      <td>0.000000</td>\n",
       "      <td>0.000000</td>\n",
       "      <td>682.000000</td>\n",
       "      <td>687.000000</td>\n",
       "    </tr>\n",
       "    <tr>\n",
       "      <th>75%</th>\n",
       "      <td>20000.000000</td>\n",
       "      <td>599.125000</td>\n",
       "      <td>9.155850e+04</td>\n",
       "      <td>25.230000</td>\n",
       "      <td>0.000000</td>\n",
       "      <td>0.000000</td>\n",
       "      <td>0.000000</td>\n",
       "      <td>33.000000</td>\n",
       "      <td>1.000000</td>\n",
       "      <td>1.000000</td>\n",
       "      <td>...</td>\n",
       "      <td>0.000000</td>\n",
       "      <td>0.000000</td>\n",
       "      <td>0.00000</td>\n",
       "      <td>0.000000</td>\n",
       "      <td>0.000000</td>\n",
       "      <td>0.000000</td>\n",
       "      <td>0.000000</td>\n",
       "      <td>0.000000</td>\n",
       "      <td>722.000000</td>\n",
       "      <td>712.000000</td>\n",
       "    </tr>\n",
       "    <tr>\n",
       "      <th>max</th>\n",
       "      <td>40000.000000</td>\n",
       "      <td>1536.950000</td>\n",
       "      <td>8.706582e+06</td>\n",
       "      <td>9999.000000</td>\n",
       "      <td>2.000000</td>\n",
       "      <td>76735.000000</td>\n",
       "      <td>39.000000</td>\n",
       "      <td>134.000000</td>\n",
       "      <td>6.000000</td>\n",
       "      <td>1.000000</td>\n",
       "      <td>...</td>\n",
       "      <td>1.000000</td>\n",
       "      <td>1.000000</td>\n",
       "      <td>1.00000</td>\n",
       "      <td>1.000000</td>\n",
       "      <td>1.000000</td>\n",
       "      <td>1.000000</td>\n",
       "      <td>1.000000</td>\n",
       "      <td>1.000000</td>\n",
       "      <td>847.500000</td>\n",
       "      <td>847.500000</td>\n",
       "    </tr>\n",
       "  </tbody>\n",
       "</table>\n",
       "<p>8 rows × 25 columns</p>\n",
       "</div>"
      ],
      "text/plain": [
       "          loan_amnt   installment    annual_inc           dti  acc_now_delinq  \\\n",
       "count  17571.000000  17571.000000  1.757100e+04  17571.000000    17571.000000   \n",
       "mean   15024.436572    450.088736  7.742740e+04     19.588330        0.007285   \n",
       "std     8860.824284    263.897607  1.001103e+05     75.812815        0.087678   \n",
       "min     1000.000000     30.120000  0.000000e+00      0.000000        0.000000   \n",
       "25%     8000.000000    258.705000  4.700000e+04     12.280000        0.000000   \n",
       "50%    13000.000000    385.910000  6.500000e+04     18.440000        0.000000   \n",
       "75%    20000.000000    599.125000  9.155850e+04     25.230000        0.000000   \n",
       "max    40000.000000   1536.950000  8.706582e+06   9999.000000        2.000000   \n",
       "\n",
       "        delinq_amnt   delinq_2yrs  mths_since_last_delinq  inq_last_6mths  \\\n",
       "count  17571.000000  17571.000000            17571.000000    17571.000000   \n",
       "mean      21.605600      0.351830               24.345122        0.679927   \n",
       "std     1009.622114      0.967926               19.715256        0.949430   \n",
       "min        0.000000      0.000000               -2.033333        0.000000   \n",
       "25%        0.000000      0.000000               10.166667        0.000000   \n",
       "50%        0.000000      0.000000               18.000000        0.000000   \n",
       "75%        0.000000      0.000000               33.000000        1.000000   \n",
       "max    76735.000000     39.000000              134.000000        6.000000   \n",
       "\n",
       "               term  ...  verification_status_NotVerified  \\\n",
       "count  17571.000000  ...                     17571.000000   \n",
       "mean       0.301064  ...                         0.057481   \n",
       "std        0.458734  ...                         0.232766   \n",
       "min        0.000000  ...                         0.000000   \n",
       "25%        0.000000  ...                         0.000000   \n",
       "50%        0.000000  ...                         0.000000   \n",
       "75%        1.000000  ...                         0.000000   \n",
       "max        1.000000  ...                         1.000000   \n",
       "\n",
       "       verification_status_SourceVerified  verification_status_Verified  \\\n",
       "count                        17571.000000                   17571.00000   \n",
       "mean                             0.094474                       0.07279   \n",
       "std                              0.292495                       0.25980   \n",
       "min                              0.000000                       0.00000   \n",
       "25%                              0.000000                       0.00000   \n",
       "50%                              0.000000                       0.00000   \n",
       "75%                              0.000000                       0.00000   \n",
       "max                              1.000000                       1.00000   \n",
       "\n",
       "       purpose_credit_card  purpose_debt_consolidation  purpose_extra  \\\n",
       "count         17571.000000                17571.000000   17571.000000   \n",
       "mean              0.042172                    0.140003       0.016448   \n",
       "std               0.200987                    0.347000       0.127193   \n",
       "min               0.000000                    0.000000       0.000000   \n",
       "25%               0.000000                    0.000000       0.000000   \n",
       "50%               0.000000                    0.000000       0.000000   \n",
       "75%               0.000000                    0.000000       0.000000   \n",
       "max               1.000000                    1.000000       1.000000   \n",
       "\n",
       "       purpose_home_improvement  purpose_other     last_fico          fico  \n",
       "count              17571.000000   17571.000000  17571.000000  17571.000000  \n",
       "mean                   0.013488       0.012634    658.084884    695.427267  \n",
       "std                    0.115356       0.111694    102.005692     31.282230  \n",
       "min                    0.000000       0.000000      0.000000    662.000000  \n",
       "25%                    0.000000       0.000000    612.000000    672.000000  \n",
       "50%                    0.000000       0.000000    682.000000    687.000000  \n",
       "75%                    0.000000       0.000000    722.000000    712.000000  \n",
       "max                    1.000000       1.000000    847.500000    847.500000  \n",
       "\n",
       "[8 rows x 25 columns]"
      ]
     },
     "execution_count": 419,
     "metadata": {},
     "output_type": "execute_result"
    }
   ],
   "source": [
    "X.describe()"
   ]
  },
  {
   "cell_type": "markdown",
   "metadata": {},
   "source": [
    "The scikit-learn train/test split function is employed to randomly create mutually exclusive training and testing datasets. If this step were not run it would lead to \"leakage\" and result in an overestimation of the actual model performance."
   ]
  },
  {
   "cell_type": "code",
   "execution_count": 420,
   "metadata": {},
   "outputs": [],
   "source": [
    "X_train, X_test, y_train, y_test = train_test_split(X, y, test_size=0.33, random_state=42)"
   ]
  },
  {
   "cell_type": "markdown",
   "metadata": {},
   "source": [
    "# Model Building"
   ]
  },
  {
   "cell_type": "markdown",
   "metadata": {},
   "source": [
    "Here we create three binary classifier functions that access the underlying algorithms in the scikit-learn and xgboost libraries. The three algoritms are chosen based on previous experience using these models. The simplest and least complex model is Logistic Regression, which has no internal tunable parameters. The Random Forest model is known as an ensemble model that is constructed from a collection, or ensemble, of decision trees created using a random set of features. The third model, Xgboost, is an improved gradient boosted decision tree model this is known to perform extremely well on a wide variety of problems. "
   ]
  },
  {
   "cell_type": "code",
   "execution_count": 421,
   "metadata": {},
   "outputs": [],
   "source": [
    "from sklearn.linear_model import LogisticRegression\n",
    "def trainLogReg(X_train, y_train):\n",
    "    name = 'logreg'\n",
    "    glm = LogisticRegression()\n",
    "    model = trainEstimator(name, glm, X_train, y_train)\n",
    "    return model"
   ]
  },
  {
   "cell_type": "code",
   "execution_count": 422,
   "metadata": {},
   "outputs": [],
   "source": [
    "from sklearn.ensemble import RandomForestClassifier\n",
    "def trainRF(X_train, y_train):\n",
    "    name = 'rf'\n",
    "    rf = RandomForestClassifier(n_estimators=50)\n",
    "    model = trainEstimator(name, rf, X_train, y_train)\n",
    "    return model"
   ]
  },
  {
   "cell_type": "code",
   "execution_count": 423,
   "metadata": {},
   "outputs": [],
   "source": [
    "def trainXGboost(X_train, y_train):\n",
    "    name = 'xgb'\n",
    "    xgb = xgboost.XGBClassifier(n_jobs=1)\n",
    "    model = trainEstimator(name, xgb, X_train, y_train)\n",
    "    return model"
   ]
  },
  {
   "cell_type": "markdown",
   "metadata": {},
   "source": [
    "Train the models without tuning any available hyperparameters. If there were more data, tuning these parameters would likely result in improved models."
   ]
  },
  {
   "cell_type": "code",
   "execution_count": 424,
   "metadata": {},
   "outputs": [
    {
     "name": "stderr",
     "output_type": "stream",
     "text": [
      "/Users/tgadfort/opt/anaconda3/envs/py37/lib/python3.7/site-packages/sklearn/linear_model/_logistic.py:940: ConvergenceWarning: lbfgs failed to converge (status=1):\n",
      "STOP: TOTAL NO. of ITERATIONS REACHED LIMIT.\n",
      "\n",
      "Increase the number of iterations (max_iter) or scale the data as shown in:\n",
      "    https://scikit-learn.org/stable/modules/preprocessing.html\n",
      "Please also refer to the documentation for alternative solver options:\n",
      "    https://scikit-learn.org/stable/modules/linear_model.html#logistic-regression\n",
      "  extra_warning_msg=_LOGISTIC_SOLVER_CONVERGENCE_MSG)\n"
     ]
    }
   ],
   "source": [
    "logreg = trainLogReg(X_train, y_train)\n",
    "rf     = trainRF(X_train, y_train)\n",
    "xgb    = trainXGboost(X_train, y_train)\n",
    "models = {\"logreg\": logreg, \"xgb\": xgb, \"rf\": rf}"
   ]
  },
  {
   "cell_type": "markdown",
   "metadata": {},
   "source": [
    "Use the trained models to predict the response on the as-yet-unseen test data. The relative difference between the predicted response and the actual test response serves as the model performance shown in the next section."
   ]
  },
  {
   "cell_type": "code",
   "execution_count": 425,
   "metadata": {},
   "outputs": [],
   "source": [
    "perfs = {}\n",
    "for modelname, model in models.items():\n",
    "    y_probs  = model.predict_proba(X_test)[:,1]\n",
    "    y_probs  = Series(data=y_probs, name=\"predicted\")\n",
    "    y_preds  = model.predict(X_test)\n",
    "    y_preds  = Series(data=y_preds, name=\"predicted\")\n",
    "    perfs[modelname] = {\"Probs\": y_probs, \"Preds\": y_preds}"
   ]
  },
  {
   "cell_type": "code",
   "execution_count": 426,
   "metadata": {},
   "outputs": [],
   "source": [
    "# Feature Importance"
   ]
  },
  {
   "cell_type": "code",
   "execution_count": 427,
   "metadata": {},
   "outputs": [],
   "source": [
    "featImp = Series(xgb.feature_importances_)\n",
    "featImp.index = X_train.columns\n",
    "featImp = featImp.sort_values()"
   ]
  },
  {
   "cell_type": "code",
   "execution_count": 428,
   "metadata": {},
   "outputs": [
    {
     "data": {
      "text/plain": [
       "<matplotlib.axes._subplots.AxesSubplot at 0x7fd9c42752d0>"
      ]
     },
     "execution_count": 428,
     "metadata": {},
     "output_type": "execute_result"
    },
    {
     "data": {
      "image/png": "[encoded data removed]",
      "text/plain": [
       "<Figure size 432x288 with 1 Axes>"
      ]
     },
     "metadata": {
      "needs_background": "light"
     },
     "output_type": "display_data"
    }
   ],
   "source": [
    "featImp.plot(kind='barh')"
   ]
  },
  {
   "cell_type": "code",
   "execution_count": 386,
   "metadata": {},
   "outputs": [],
   "source": [
    "defaultLastFico = X_train['last_fico'][y_train == 1]\n",
    "goodLastFico    = X_train['last_fico'][y_train == 0]"
   ]
  },
  {
   "cell_type": "code",
   "execution_count": null,
   "metadata": {},
   "outputs": [],
   "source": []
  },
  {
   "cell_type": "markdown",
   "metadata": {},
   "source": [
    "# Model Performance"
   ]
  },
  {
   "cell_type": "markdown",
   "metadata": {},
   "source": [
    "Compute the standard suite of binary classification performance metrics. The most common of these are the true-positive rate (TPR) and fake-positive rate (FPR), which respresent the fraction of events that we correctly and incorrectly assigned to the true response value. From these values, the reciever-operator curve (ROC) can be constructed to visualize the performance of the models and compare them the case of a random and perfect prediction."
   ]
  },
  {
   "cell_type": "code",
   "execution_count": 429,
   "metadata": {},
   "outputs": [],
   "source": [
    "modelperfdata = {}\n",
    "for modelname,modeldata in perfs.items():\n",
    "    retval = {}\n",
    "    y_truth = y_test\n",
    "    y_probs = modeldata['Probs']\n",
    "    y_preds = modeldata['Preds']\n",
    "    precision, recall, pr_thresholds = precision_recall_curve(y_truth, y_probs)\n",
    "    retval[\"PR\"] = {\"precision\": precision, \"recall\": recall, \"thresholds\": pr_thresholds}\n",
    "\n",
    "    fpr, tpr, roc_thresholds = roc_curve(y_truth, y_probs)\n",
    "    retval[\"ROC\"] = {\"fpr\": fpr, \"tpr\": tpr, \"thresholds\": roc_thresholds}\n",
    "\n",
    "    auc = roc_auc_score(y_truth, y_probs)\n",
    "    retval[\"AUC\"] = auc\n",
    "\n",
    "    cfm = confusion_matrix(y_truth, y_preds)\n",
    "    tn, fp, fn, tp = cfm.ravel()\n",
    "    retval[\"Confusion\"] = {\"matrix\": cfm, \"tn\": tn, \"tp\": tp, \"fn\": fn, \"fp\": fp}\n",
    "    \n",
    "    modelperfdata[modelname] = retval"
   ]
  },
  {
   "cell_type": "markdown",
   "metadata": {},
   "source": [
    "Another useful metric is the confusion matrix, which shows the number of true-positive (TP) predictions, false-negative (FN) predictions, true-negative (TN) preduction, and false-positive (FP) prediction."
   ]
  },
  {
   "cell_type": "code",
   "execution_count": 430,
   "metadata": {},
   "outputs": [
    {
     "name": "stdout",
     "output_type": "stream",
     "text": [
      "The confusion matrix for logreg is [[3625  169]\n",
      " [ 475 1530]]\n",
      "The confusion matrix for xgb is [[3570  224]\n",
      " [ 392 1613]]\n",
      "The confusion matrix for rf is [[3598  196]\n",
      " [ 403 1602]]\n"
     ]
    }
   ],
   "source": [
    "for modelname, perfdata in modelperfdata.items():\n",
    "    mat = perfdata[\"Confusion\"]['matrix']\n",
    "    print(\"The confusion matrix for {0} is {1}\".format(modelname, mat))"
   ]
  },
  {
   "cell_type": "markdown",
   "metadata": {},
   "source": [
    "Plot the ROC curve for each classifier and show the area-under-the-curve (AUC) for each. The AUC is the integral (area) of the ROC curve between 0 and 1. A random prediction model (e.g., coin flip) will have an AUC value of 0.5. A perfect model will have an AUC value of 1, and all other models have values between 0.5 and 1. Models with values closer to 1 are better models (i.e., predict more correct responses) than models with values closer to 0.5 (i.e., predict few correct responses)."
   ]
  },
  {
   "cell_type": "code",
   "execution_count": 431,
   "metadata": {},
   "outputs": [
    {
     "name": "stdout",
     "output_type": "stream",
     "text": [
      "The AUC for logreg is 0.93\n",
      "The AUC for xgb is 0.93\n",
      "The AUC for rf is 0.93\n"
     ]
    },
    {
     "data": {
      "text/plain": [
       "<matplotlib.legend.Legend at 0x7fd9c47c2c90>"
      ]
     },
     "execution_count": 431,
     "metadata": {},
     "output_type": "execute_result"
    },
    {
     "data": {
      "image/png": "[encoded data removed]",
      "text/plain": [
       "<Figure size 864x576 with 1 Axes>"
      ]
     },
     "metadata": {
      "needs_background": "light"
     },
     "output_type": "display_data"
    }
   ],
   "source": [
    "perfdata = retval\n",
    "\n",
    "import matplotlib.pyplot as plt\n",
    "import seaborn as sns\n",
    "\n",
    "plt.figure(figsize=[12, 8])\n",
    "current_palette = sns.color_palette()\n",
    "i = 0\n",
    "for modelname, perfdata in modelperfdata.items():\n",
    "    #colors = cycle(['aqua', 'darkorange', 'cornflowerblue'])\n",
    "    auc = perfdata['AUC']\n",
    "    print(\"The AUC for {0} is {1}\".format(modelname, round(auc,2)))\n",
    "    tpr = perfdata['ROC']['tpr']\n",
    "    fpr = perfdata['ROC']['fpr']\n",
    "    plt.plot(fpr, tpr,\n",
    "             label='{0} ({1:0.2f})'\n",
    "             ''.format(modelname, auc),\n",
    "             color=current_palette[i], linestyle='-', linewidth=3)\n",
    "    i += 1\n",
    "\n",
    "title = \"Receiver Operating Characteristic\"\n",
    "value = \"ROC\"\n",
    "plt.plot([0, 1], [0, 1], 'k--', lw=2, )\n",
    "plt.xlim([0.0, 1.0])\n",
    "plt.ylim([0.0, 1.05])\n",
    "plt.xlabel('False Positive Rate')\n",
    "plt.ylabel('True Positive Rate')\n",
    "plt.title('')\n",
    "plt.legend(loc=\"lower right\")\n",
    "\n"
   ]
  },
  {
   "cell_type": "code",
   "execution_count": 363,
   "metadata": {},
   "outputs": [
    {
     "name": "stdout",
     "output_type": "stream",
     "text": [
      "The AUC for logreg is 0.89\n",
      "The AUC for xgb is 0.96\n",
      "The AUC for rf is 0.96\n"
     ]
    },
    {
     "data": {
      "text/plain": [
       "<matplotlib.legend.Legend at 0x7fd9da7b8dd0>"
      ]
     },
     "execution_count": 363,
     "metadata": {},
     "output_type": "execute_result"
    },
    {
     "data": {
      "image/png": "[encoded data removed]",
      "text/plain": [
       "<Figure size 864x576 with 1 Axes>"
      ]
     },
     "metadata": {
      "needs_background": "light"
     },
     "output_type": "display_data"
    }
   ],
   "source": [
    "perfdata = retval\n",
    "\n",
    "import matplotlib.pyplot as plt\n",
    "import seaborn as sns\n",
    "\n",
    "plt.figure(figsize=[12, 8])\n",
    "current_palette = sns.color_palette()\n",
    "i = 0\n",
    "for modelname, perfdata in modelperfdata.items():\n",
    "    #colors = cycle(['aqua', 'darkorange', 'cornflowerblue'])\n",
    "    auc = perfdata['AUC']\n",
    "    print(\"The AUC for {0} is {1}\".format(modelname, round(auc,2)))\n",
    "    tpr = perfdata['ROC']['tpr']\n",
    "    fpr = perfdata['ROC']['fpr']\n",
    "    plt.plot(fpr, tpr,\n",
    "             label='{0} ({1:0.2f})'\n",
    "             ''.format(modelname, auc),\n",
    "             color=current_palette[i], linestyle='-', linewidth=3)\n",
    "    i += 1\n",
    "\n",
    "title = \"Receiver Operating Characteristic\"\n",
    "value = \"ROC\"\n",
    "plt.plot([0, 1], [0, 1], 'k--', lw=2, )\n",
    "plt.xlim([0.0, 1.0])\n",
    "plt.ylim([0.0, 1.05])\n",
    "plt.xlabel('False Positive Rate')\n",
    "plt.ylabel('True Positive Rate')\n",
    "plt.title('')\n",
    "plt.legend(loc=\"lower right\")\n",
    "\n"
   ]
  },
  {
   "cell_type": "markdown",
   "metadata": {},
   "source": [
    "The above plot is the ROC curve for each model. The y-axis is the true-positive (correct positive assignment) rate and x-axis is the false-positive (incorrect positve assignment) rate. Curves nearer to the top-left corner are considered good models while models whose curve lies near the dotted line are considered poor models."
   ]
  },
  {
   "cell_type": "markdown",
   "metadata": {},
   "source": [
    "# Summary"
   ]
  },
  {
   "cell_type": "markdown",
   "metadata": {},
   "source": [
    "All three binary classifiers essentially show the same performance as determined from the ROC, AUC, and confusion matrix values. The independent test dataset contained 175 rows and each classifer correclty predicted 125 of the true response values. The classifiers differed slightly in the assignment for TN, FN, and FP. Given the relatively low number of events in the testing data it is difficult to say that one classifier greatly exceeds another one. A much larger training and testing dataset would certainly help to decide which model is best. Additional data would also allow for more features in the training dataset that could improve the overall model performance."
   ]
  },
  {
   "cell_type": "markdown",
   "metadata": {},
   "source": [
    "# Additional Code"
   ]
  },
  {
   "cell_type": "code",
   "execution_count": null,
   "metadata": {},
   "outputs": [],
   "source": [
    "def splitDataByKey(pddata, key, targetcol, trainFraction=0.25):\n",
    "    \"\"\"\n",
    "    Split the data into test and train data\n",
    "    \n",
    "    Inputs:\n",
    "      > pddata: the model feature data (DataFrame)\n",
    "      > key: a key to split the train/test data on\n",
    "      > targetcol: the name of the target column\n",
    "      > trainFraction (0.25 by default): fraction of events to use for training\n",
    "      \n",
    "    Outputs:\n",
    "      > Training feature data (DataFrame), Testing feature data (DataFrame), Training target data (Series), Testing target data (Series)\n",
    "    \"\"\"\n",
    "    keydata = [str(x) for x in list(pddata[key].unique())]\n",
    "    print(\"There are {0} unique keys.\".format(len(keydata)))\n",
    "    print(\"Using {0} training fraction.\".format(trainFraction))\n",
    "    from random import sample\n",
    "    from numpy import asarray\n",
    "    trainKeys = list(sample(keydata, int(trainFraction*len(keydata))))\n",
    "    testKeys = [e for e in keydata if e not in trainKeys]\n",
    "    \n",
    "    if len(set(trainKeys).intersection(testKeys)) > 0:\n",
    "        print(\"There are common keys in train/test!!\")\n",
    "        return None\n",
    "    \n",
    "    trainKeys = asarray(trainKeys)\n",
    "    testKeys  = asarray(testKeys)\n",
    "    print(\"There are {0} keys in the training data.\".format(trainKeys.shape[0]))\n",
    "    print(\"There are {0} keys in the testing data.\".format(testKeys.shape[0]))\n",
    "        \n",
    "    trainData = pddata[pddata[key].isin(trainKeys)].copy()\n",
    "    testData  = pddata[pddata[key].isin(testKeys)].copy()\n",
    "    \n",
    "    return trainData"
   ]
  },
  {
   "cell_type": "code",
   "execution_count": null,
   "metadata": {},
   "outputs": [],
   "source": [
    "start = clock(\"Creating Test/Train Datasets Using SplitKey {0}\".format(splitKey))\n",
    "\n",
    "if splitKey is not None:\n",
    "    ## If we're splitting on a key\n",
    "    X_train, X_test, y_train, y_test = splitDataByKey(data, key=splitKey, targetcol=targetcol, trainFraction=0.25)\n",
    "    featureNames = X_train.columns\n",
    "    transformers={\"X\": None, \"y\": None}\n",
    "else:\n",
    "    ## If we're randomly splitting\n",
    "    features, target = splitFeaturesTarget(data, targetcol)\n",
    "\n",
    "    ## Transform (if needed)\n",
    "    retval   = transformData(extra, features, target)\n",
    "    features = retval['X_data']\n",
    "    target   = retval['y_data']\n",
    "    X_scaler = retval['X_scaler']\n",
    "    y_scaler = retval['y_scaler']\n",
    "\n",
    "    ## Split test/train\n",
    "    print(\"Spliting test and train data\")\n",
    "    X_train, X_test, y_train, y_test = splitData(features, target, trainFraction=0.33)\n",
    "    featureNames = X_train.columns\n",
    "    transformers={\"X\": X_scaler, \"y\": y_scaler}\n",
    "    \n",
    "## Save everything\n",
    "data = {\"testDataX\": X_test, \"testDataY\": y_test, \"trainDataX\": X_train, \"trainDataY\": y_train, \n",
    "        \"transformers\": transformers, \"features\": featureNames}\n",
    "for name,value in data.items():\n",
    "    saveData(value, name=name, outdir=outdatadir, dataSuffix=dataSuffix, extra=extra)\n",
    "\n",
    "elapsed(start, comment=\"Created Test/Train Datasets\")"
   ]
  },
  {
   "cell_type": "code",
   "execution_count": null,
   "metadata": {},
   "outputs": [],
   "source": [
    "def trainXGBoost(name, X_train, y_train):\n",
    "    name = 'xgboost'\n",
    "    start = clock(\"Training {0}\".format(name))\n",
    "    xgb = xgboost.XGBRegressor(n_jobs=2)\n",
    "    config = {'njobs': 2, 'grid': {'min_child_weight': [500], 'max_depth': [8], 'learning_rate': [0.1], 'gamma': [0.3]}}\n",
    "\n",
    "    tune = True\n",
    "    if tune is True:\n",
    "        tuneResults = tuneEstimator(name, xgb, X_train, y_train, config, debug=True)\n",
    "        model = tuneResults['estimator']\n",
    "    else:\n",
    "        params = {'min_child_weight': 500, 'max_depth': 10, 'learning_rate': 0.1, 'gamma': 0.3}\n",
    "        xgb.set_params(**params)\n",
    "        model = trainEstimator(name, xgb, X_train, y_train)    \n",
    "    elapsed(start, comment=\"Trained {0}\".format(name))\n",
    "    return model"
   ]
  },
  {
   "cell_type": "code",
   "execution_count": null,
   "metadata": {},
   "outputs": [],
   "source": []
  },
  {
   "cell_type": "code",
   "execution_count": null,
   "metadata": {},
   "outputs": [],
   "source": [
    "\n",
    "# coding: utf-8\n",
    "\n",
    "from pandas import Series\n",
    "from datetime import datetime as dt\n",
    "from numpy import prod\n",
    "from sklearn.base import ClassifierMixin,RegressorMixin\n",
    "from xgboost.sklearn import XGBRegressor, XGBClassifier\n",
    "from sklearn.model_selection import GridSearchCV, RandomizedSearchCV\n",
    "\n",
    "\n",
    "###########################################################################\n",
    "#\n",
    "# Train Model\n",
    "#\n",
    "###########################################################################\n",
    "def trainEstimator(name, estimator, X_train, y_train, debug = False):\n",
    "    \"\"\"\n",
    "    Train a scikit-learn estimator\n",
    "    \n",
    "    Inputs:\n",
    "      > name: string\n",
    "      > estimator: a scikit-learn estimator (Regressor or Classifier)\n",
    "      > X_train: the training data (DataFrame)\n",
    "      > y_train: the response data (DataFrame or Series)\n",
    "      > debug: (False) set to True for print statements\n",
    "      \n",
    "    Output: scikit-learn estimator (although not needed since fit results are stored in estimator)\n",
    "    \"\"\"\n",
    "    if debug:\n",
    "        startTime = dt.now()\n",
    "        print(\"Training {0} on {1} rows and {2} features.\".format(name, X_train.shape[0], X_train.shape[1]))\n",
    "    estimator.fit(X_train, y_train)\n",
    "    if debug:\n",
    "        endTime = dt.now()\n",
    "        delta = endTime-startTime\n",
    "        totaltime = delta.seconds\n",
    "    \n",
    "        if totaltime > 60:\n",
    "            units = \"min\"\n",
    "            totaltime /= 60.0\n",
    "        else:\n",
    "            units = \"sec\"\n",
    "        \n",
    "        totaltime = round(totaltime,1)\n",
    "        print(\"Time to train {0} is {1} {2}.\".format(name, totaltime, units))\n",
    "        \n",
    "    return estimator\n",
    "\n",
    "\n",
    "\n",
    "###########################################################################\n",
    "#\n",
    "# Predict Model\n",
    "#\n",
    "###########################################################################\n",
    "def predictEstimator(name, estimator, X_test, y_test = None, y_scaler = None, debug = False):\n",
    "    \"\"\"\n",
    "    Predict response from a scikit-learn estimator\n",
    "    \n",
    "    Inputs:\n",
    "      > name: string\n",
    "      > estimator: a scikit-learn estimator (Regressor or Classifier)\n",
    "      > X_test: the test data (DataFrame)\n",
    "      > y_test: (None) the test response data (DataFrame or Series) (for formating)\n",
    "      > y_scaler: (None) if the response requires transformation\n",
    "      > debug: (False) set to True for print statements\n",
    "      \n",
    "    Output: Dictionary {\"probs\": class probabilities (if Classifer),\n",
    "                        \"labels\": class labels (if Classifier),\n",
    "                        \"values\": response values (if Regressor}\n",
    "    \"\"\"\n",
    "    \n",
    "    if debug:\n",
    "        startTime = dt.now()\n",
    "        print(\"Predicting {0} on {1} rows and {2} features.\".format(name, X_test.shape[0], X_test.shape[1]))\n",
    "        \n",
    "    if isinstance(estimator, ClassifierMixin):\n",
    "        probs  = getProbabilities(name, estimator, X_test)\n",
    "        probs.index = X_test.index\n",
    "        labels = getPredictions(name, estimator, X_test)\n",
    "        labels.index = X_test.index\n",
    "    else:\n",
    "        probs  = None\n",
    "        labels = None\n",
    "    \n",
    "    if isinstance(estimator, RegressorMixin):\n",
    "        values = getPredictions(name, estimator, X_test)\n",
    "        values.index = X_test.index\n",
    "    else:\n",
    "        values = None\n",
    "\n",
    "    ## Invert predicted data\n",
    "    if y_scaler is not None:\n",
    "        values = invertTransform(values, y_scaler)\n",
    "        values.index = X_test.index\n",
    "\n",
    "    retval = {\"probs\": probs, \"labels\": labels, \"values\": values}\n",
    "    \n",
    "    if debug:\n",
    "        endTime = dt.now()\n",
    "        delta = endTime-startTime\n",
    "        totaltime = delta.seconds\n",
    "    \n",
    "        if totaltime > 60:\n",
    "            units = \"min\"\n",
    "            totaltime /= 60.0\n",
    "        else:\n",
    "            units = \"sec\"\n",
    "        \n",
    "        totaltime = round(totaltime,1)\n",
    "        print(\"Time to predict {0} is {1} {2}.\".format(name, totaltime, units))\n",
    "\n",
    "    return retval \n",
    "\n",
    "\n",
    "def getProbabilities(name, estimator, X_test, debug = False):\n",
    "    \"\"\"\n",
    "    Predict class probabilities from a trained estimator\n",
    "    \n",
    "    Inputs:\n",
    "      > name: string\n",
    "      > estimator: a scikit-learn estimator (Regressor or Classifier)\n",
    "      > X_test: the test data (DataFrame)\n",
    "      > debug: (False) set to True for print statements\n",
    "      \n",
    "    Output:\n",
    "      > pandas.Series of class probabilities\n",
    "    \"\"\"\n",
    "\n",
    "    if debug:\n",
    "        print(\"  Computing target probabilities for {0}\".format(name))\n",
    "    probs  = estimator.predict_proba(X_test)[:,1]\n",
    "    probs  = Series(data=probs, name=\"predicted\")\n",
    "    #probs.index = y_test.index\n",
    "    return probs\n",
    "\n",
    "def getPredictions(name, estimator, X_test, debug = False):\n",
    "    \"\"\"\n",
    "    Predict class labels (Classifier) or response (Regressor) from a trained estimator\n",
    "    \n",
    "    Inputs:\n",
    "      > name: string\n",
    "      > estimator: a scikit-learn estimator (Regressor or Classifier)\n",
    "      > X_test: the test data (DataFrame)\n",
    "      > debug: (False) set to True for print statements\n",
    "      \n",
    "    Output:\n",
    "      > pandas.Series of class labels/response\n",
    "    \"\"\"\n",
    "    \n",
    "    if debug:\n",
    "        print(\"  Computing target predictions for {0}\".format(name))\n",
    "    preds  = estimator.predict(X_test)\n",
    "    preds  = Series(data=preds, name=\"predicted\")\n",
    "    #preds.index = y_test.index\n",
    "    return preds\n",
    "\n",
    "\n",
    "\n",
    "###########################################################################\n",
    "#\n",
    "# Tune Estimator\n",
    "#\n",
    "###########################################################################\n",
    "def tuneEstimator(modelname, estimator, X_train, y_train, config, debug = False):\n",
    "    \"\"\"\n",
    "    Hyperparameter tune a scikit-learn estimator\n",
    "    \n",
    "    Inputs:\n",
    "      > modelname: string\n",
    "      > estimator: a scikit-learn estimator (Regressor or Classifier)\n",
    "      > X_train: the training data (DataFrame)\n",
    "      > y_train: the response data (DataFrame or Series)\n",
    "      > config: Dictionary {\"grid\": Dictionary of parameters to scan (example below),\n",
    "                            \"njobs\": number of parallel threads (jobs),\n",
    "                            \"type\": \"grid\" or \"random\",\n",
    "                            \"iter\": number of random iterations to test (10 if not specified)}\n",
    "      > debug: (False) set to True for print statements\n",
    "\n",
    "        Example grid for xgboost: grid = {'min_child_weight': [10, 100, 1000], 'max_depth': [2, 6, 10], 'learning_rate': 0.1, 'gamma': 0.3}\n",
    "        \n",
    "    Output:\n",
    "      > pandas.Series of class labels/response\n",
    "    \"\"\"\n",
    "    \n",
    "    if debug:\n",
    "        print(\"Tuning a {0} estimator\".format(modelname))\n",
    "        verbose=1\n",
    "    else:\n",
    "        verbose=0\n",
    "    \n",
    "    if estimator is None:\n",
    "        print(\"There is no estimator with parameters information.\")\n",
    "        return {\"estimator\": None, \"params\": None, \"cv\": None}\n",
    "\n",
    "\n",
    "    if config.get('grid') is not None:\n",
    "        grid = config['grid']\n",
    "    else:\n",
    "        if isinstance(estimator, [XGBRegressor, XGBClassifier]):\n",
    "            grid = {'min_child_weight': [10, 100, 1000], 'max_depth': [2, 6, 10], 'learning_rate': 0.1, 'gamma': 0.3}\n",
    "        else:\n",
    "            print(\"No grid for {0}\".format(modelname))\n",
    "            return {\"estimator\": estimator, \"params\": estimator.get_params(), \"cv\": None}\n",
    "\n",
    "\n",
    "    scorers = []\n",
    "    if isinstance(estimator, ClassifierMixin):\n",
    "        scorers = [\"accuracy\", \"average_precision\", \"f1\", \"f1_micro\",\n",
    "                   \"f1_macro\", \"f1_weighted\", \"f1_samples\", \"neg_log_loss\",\n",
    "                   \"precision\", \"recall\", \"roc_auc\"]\n",
    "        scorer = \"roc_auc\"\n",
    "    \n",
    "\n",
    "    if isinstance(estimator, RegressorMixin):\n",
    "        scorers = [\"explained_variance\", \"neg_mean_absolute_error\",\n",
    "                   \"neg_mean_squared_error\", \"neg_mean_squared_log_error\",\n",
    "                   \"neg_median_absolute_error\", \"r2\"]\n",
    "        scorer = \"neg_mean_absolute_error\"\n",
    "\n",
    "    if scorer not in scorers:\n",
    "        raise ValueError(\"Scorer {0} is not allowed\".format(scorer))\n",
    "\n",
    "    searchType = config.get('type')\n",
    "    if searchType is None:\n",
    "        searchType = \"random\"\n",
    "    if config.get('njobs') is not None:\n",
    "        njobs = config['njobs']\n",
    "    else:\n",
    "        njobs = 2\n",
    "        \n",
    "    if searchType == \"grid\":\n",
    "        tuneEstimator = GridSearchCV(estimator, param_grid=grid, cv=2,\n",
    "                                     scoring=scorer, verbose=verbose, n_jobs=njobs)\n",
    "    elif searchType == \"random\":\n",
    "        n_iter_search = config.get('iter')\n",
    "        if n_iter_search is None:\n",
    "            nMax  = 10\n",
    "            n_iter_search = min(nMax, prod([len(x) for x in config['grid'].values()]))         \n",
    "        tuneEstimator = RandomizedSearchCV(estimator, param_distributions=grid,\n",
    "                                           cv=2, n_iter=n_iter_search,\n",
    "                                           verbose=verbose, n_jobs=njobs,\n",
    "                                           return_train_score=True)\n",
    "    else:\n",
    "        raise ValueError(\"Search type {0} is not allowed\".format(searchType))\n",
    "\n",
    "    if debug:\n",
    "        print(\"Running {0} parameter search\".format(searchType))\n",
    "    tuneEstimator.fit(X_train, y_train)\n",
    "    bestEstimator = tuneEstimator.best_estimator_        \n",
    "    bestScore     = tuneEstimator.best_score_\n",
    "    bestParams    = tuneEstimator.best_params_\n",
    "    cvResults     = tuneEstimator.cv_results_\n",
    "    cvScores      = cvResults['mean_test_score']\n",
    "    fitTimes      = cvResults['mean_fit_time']\n",
    "\n",
    "    if debug:\n",
    "        print(\"Tested {0} Parameter Sets\".format(len(fitTimes)))\n",
    "        print(\"CV Fit Time Info (Mean,Std): ({0} , {1})\".format(round(fitTimes.mean(),1), round(fitTimes.std(),1)))\n",
    "        print(\"Best Score                 : {0}\".format(round(bestScore, 3)))\n",
    "        print(\"Worst Score                : {0}\".format(round(min(cvScores), 3)))\n",
    "        print(\"CV Test Scores (Mean,Std)  : ({0} , {1})\".format(round(cvScores.mean(),1), round(cvScores.std(),1)))\n",
    "        print(\"Best Parameters\")\n",
    "        for paramName, paramVal in bestParams.items():\n",
    "            print(\"Param: {0} = {1}\".format(paramName, paramVal))    \n",
    "\n",
    "    return {\"estimator\": bestEstimator, \"params\": bestParams, \"cv\": cvResults}\n",
    "\n",
    "\n"
   ]
  },
  {
   "cell_type": "code",
   "execution_count": null,
   "metadata": {},
   "outputs": [],
   "source": []
  }
 ],
 "metadata": {
  "kernelspec": {
   "display_name": "Python 3",
   "language": "python",
   "name": "python3"
  },
  "language_info": {
   "codemirror_mode": {
    "name": "ipython",
    "version": 3
   },
   "file_extension": ".py",
   "mimetype": "text/x-python",
   "name": "python",
   "nbconvert_exporter": "python",
   "pygments_lexer": "ipython3",
   "version": "3.7.7"
  }
 },
 "nbformat": 4,
 "nbformat_minor": 2
}
