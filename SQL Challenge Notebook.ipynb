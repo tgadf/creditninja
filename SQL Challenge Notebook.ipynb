{
 "cells": [
  {
   "cell_type": "markdown",
   "metadata": {},
   "source": [
    "# Question 1"
   ]
  },
  {
   "cell_type": "markdown",
   "metadata": {},
   "source": [
    "#### Create a query that provides the following information for all items ordered."
   ]
  },
  {
   "cell_type": "code",
   "execution_count": null,
   "metadata": {},
   "outputs": [],
   "source": [
    "CREATE TABLE OrderDetailCostsTable AS\n",
    "SELECT [OrderDetails].OrderID,[OrderDetails].Quantity as OrderQuantity,[Products].Price as UnitPrice,[OrderDetails].Quantity*[Products].Price as QuantityCost FROM [OrderDetails]\n",
    "JOIN [Products]\n",
    "  ON [Products].ProductID == [OrderDetails].ProductID\n",
    "    \n",
    "CREATE TABLE OrderCostsTable AS\n",
    "SELECT OrderID,SUM(OrderQuantity) as TotalQuantity,SUM(QuantityCost) as TotalCost FROM [OrderDetailCostsTable]\n",
    "GROUP BY OrderID\n",
    "\n",
    "SELECT OrderDetailID, ProductName, Quantity as ProductQuantity, Price as UnitPrice, price*quantity AS TotalProductPrice, CategoryName, [OrderDetails].OrderID, OrderDate, [Customers].CustomerID, Country as CustomerCountry, TotalQuantity\tTotalCost, [Employees].LastName FROM [OrderDetails]\n",
    "JOIN [Products] \n",
    "  ON [OrderDetails].ProductID == [Products].ProductID\n",
    "JOIN [Categories]\n",
    "  ON [Categories].CategoryID == [Products].CategoryID\n",
    "JOIN [Orders]\n",
    "  ON [Orders].OrderID == [OrderDetails].OrderID\n",
    "JOIN [Customers]\n",
    "  ON [Customers].CustomerID == [Orders].CustomerID\n",
    "JOIN [Employees]\n",
    "  ON [Employees].EmployeeID == [Orders].EmployeeID\n",
    "JOIN [OrderCostsTable]\n",
    "  ON [OrderCostsTable].OrderID == [OrderDetails].OrderID"
   ]
  },
  {
   "cell_type": "markdown",
   "metadata": {},
   "source": [
    "# Question 2"
   ]
  },
  {
   "cell_type": "markdown",
   "metadata": {},
   "source": [
    "#### 1: Which employee has sold the most products?"
   ]
  },
  {
   "cell_type": "code",
   "execution_count": null,
   "metadata": {},
   "outputs": [],
   "source": [
    "SELECT [Orders].EmployeeID,[Employees].FirstName,[Employees].LastName,SUM(TotalQuantity) as ProductsSold FROM [Orders]\n",
    "JOIN [OrderCostsTable]\n",
    "  ON [OrderCostsTable].OrderID == [Orders].OrderID\n",
    "JOIN [Employees]\n",
    "  ON [Employees].EmployeeID == [Orders].EmployeeID\n",
    "GROUP BY [Orders].EmployeeID\n",
    "ORDER BY ProductsSold DESC"
   ]
  },
  {
   "cell_type": "markdown",
   "metadata": {},
   "source": [
    "Answer: Margaret Peacock sold 3232 items"
   ]
  },
  {
   "cell_type": "markdown",
   "metadata": {},
   "source": [
    "#### 2: Which product has generated the most revenue for the business?"
   ]
  },
  {
   "cell_type": "code",
   "execution_count": null,
   "metadata": {},
   "outputs": [],
   "source": [
    "SELECT [Products].ProductName,SUM([OrderDetails].Quantity*[Products].Price) as Revenue FROM [OrderDetails]\n",
    "JOIN [Products]\n",
    "  ON [Products].ProductID == [OrderDetails].ProductID\n",
    "GROUP BY [Products].ProductName\n",
    "ORDER BY Revenue DESC"
   ]
  },
  {
   "cell_type": "markdown",
   "metadata": {},
   "source": [
    "Answer: Côte de Blaye with 62976.5 (dollars presumably)"
   ]
  },
  {
   "cell_type": "markdown",
   "metadata": {},
   "source": [
    "#### 3: Which category has produced the least revenue for the business?"
   ]
  },
  {
   "cell_type": "code",
   "execution_count": null,
   "metadata": {},
   "outputs": [],
   "source": [
    "SELECT [Categories].CategoryName,SUM([OrderDetails].Quantity*[Products].Price) as Revenue FROM [OrderDetails]\n",
    "JOIN [Products]\n",
    "  ON [Products].ProductID == [OrderDetails].ProductID\n",
    "JOIN [Categories]\n",
    "  ON [Categories].CategoryID == [Products].CategoryID\n",
    "GROUP BY [Categories].CategoryName\n",
    "ORDER BY Revenue"
   ]
  },
  {
   "cell_type": "markdown",
   "metadata": {},
   "source": [
    "Answer: Grains/Cereals with 22327.75 (dollars)"
   ]
  },
  {
   "cell_type": "markdown",
   "metadata": {},
   "source": [
    "#### 4: How many customers have ordered once, more than once or never?"
   ]
  },
  {
   "cell_type": "code",
   "execution_count": null,
   "metadata": {},
   "outputs": [],
   "source": [
    "CREATE TABLE CustomerOrderCountsTable AS\n",
    "SELECT [Customers].CustomerID, [Customers].CustomerName, COUNT(*) as CustomerOrders FROM [Customers]\n",
    "JOIN [Orders]\n",
    "  ON [Customers].CustomerID == [Orders].CustomerID\n",
    "GROUP BY [Customers].CustomerID\n",
    "ORDER BY CustomerOrders DESC\n",
    "\n",
    "SELECT COUNT(*) FROM [CustomerOrderCountsTable]\n",
    "WHERE CustomerOrders > 1\n",
    "\n",
    "SELECT COUNT(*) FROM [CustomerOrderCountsTable]\n",
    "WHERE CustomerOrders == 1"
   ]
  },
  {
   "cell_type": "markdown",
   "metadata": {},
   "source": [
    "Answer:\n",
    "Customers ordered greater than once: 52\n",
    "Customers ordered exactly once: 22\n",
    "Customers never ordered: There are 91 customers in the customers table, therefore 91 - 52 - 22 = 17 customers have never ordered"
   ]
  },
  {
   "cell_type": "markdown",
   "metadata": {},
   "source": [
    "#### 5: Which shipper has shipped the most products? (FYI, the text in the HW pdf is incorrect and the updated query + text was agreed upon with Zach)"
   ]
  },
  {
   "cell_type": "code",
   "execution_count": null,
   "metadata": {},
   "outputs": [],
   "source": [
    "SELECT [Shippers].ShipperName, SUM([OrderDetails].Quantity) as TotalShipped FROM [OrderDetails]\n",
    "JOIN [Orders]\n",
    "  ON [OrderDetails].OrderID == [Orders].OrderID\n",
    "JOIN [Shippers]\n",
    "  ON [Shippers].ShipperID == [Orders].ShipperID\n",
    "GROUP BY [Shippers].ShipperID\n",
    "ORDER BY TotalShipped DESC"
   ]
  },
  {
   "cell_type": "markdown",
   "metadata": {},
   "source": [
    "Answer: United Package has shipped the most with 4802 units"
   ]
  },
  {
   "cell_type": "markdown",
   "metadata": {},
   "source": [
    "#### 6: What percentage of orders by $ are Dairy products as a percentage of all order value by employee?"
   ]
  },
  {
   "cell_type": "code",
   "execution_count": null,
   "metadata": {},
   "outputs": [],
   "source": [
    "CREATE TABLE EmployeeCategoriesTable AS\n",
    "SELECT [Orders].EmployeeID, CategoryName, SUM(price*quantity) AS Revenue FROM [OrderDetails]\n",
    "JOIN [Products] \n",
    "  ON [OrderDetails].ProductID == [Products].ProductID\n",
    "JOIN [Categories]\n",
    "  ON [Categories].CategoryID == [Products].CategoryID\n",
    "JOIN [Orders]\n",
    "  ON [Orders].OrderID == [OrderDetails].OrderID\n",
    "GROUP BY [Orders].EmployeeID, CategoryName\n",
    "\n",
    "\n",
    "CREATE TABLE EmployeeDairyRevenueTable AS\n",
    "SELECT * FROM [EmployeeCategoryRevenueTable]\n",
    "WHERE CategoryName == \"Dairy Products\"\n",
    "\n",
    "\n",
    "\n",
    "SELECT [Employees].FirstName, [Employees].LastName, ROUND(100*[EmployeeDairyRevenueTable].Revenue/SUM([EmployeeCategoryRevenueTable].Revenue),1) as PercentSalesOfDairy FROM [EmployeeDairyRevenueTable]\n",
    "JOIN [EmployeeCategoryRevenueTable]\n",
    "  ON [EmployeeCategoryRevenueTable].EmployeeID == [EmployeeDairyRevenueTable].EmployeeID\n",
    "JOIN [Employees]\n",
    "  ON [Employees].EmployeeID == [EmployeeDairyRevenueTable].EmployeeID\n",
    "GROUP BY [EmployeeDairyRevenueTable].EmployeeID\n",
    "ORDER BY PercentSalesOfDairy DESC"
   ]
  },
  {
   "cell_type": "raw",
   "metadata": {},
   "source": [
    "#### Answer:\n",
    "FirstName\tLastName\tPercentSalesOfDairy\n",
    "Steven\tBuchanan\t40.2\n",
    "Michael\tSuyama\t39.3\n",
    "Anne\tDodsworth\t27.6\n",
    "Nancy\tDavolio\t23.7\n",
    "Margaret\tPeacock\t15.9\n",
    "Janet\tLeverling\t14\n",
    "Andrew\tFuller\t13.7\n",
    "Laura\tCallahan\t5.8\n",
    "Robert\tKing\t3.3"
   ]
  },
  {
   "cell_type": "markdown",
   "metadata": {},
   "source": [
    "#### 7: Which employee has shipped the most orders over $1500 by count to a country that has a vowel as its fourth letter?"
   ]
  },
  {
   "cell_type": "code",
   "execution_count": null,
   "metadata": {},
   "outputs": [],
   "source": [
    "CREATE TABLE EmployeeCountryOrders AS\n",
    "SELECT [Orders].OrderID, [Orders].CustomerID, [Customers].Country, [OrderCalcTable].TotalCost, [Orders].EmployeeID, [Employees].FirstName, [Employees].LastName FROM [Orders]\n",
    "JOIN [Employees]\n",
    "  ON [Employees].EmployeeID == [Orders].EmployeeID\n",
    "JOIN [OrderCalcTable]\n",
    "  ON [Orders].OrderID == [OrderCalcTable].OrderID\n",
    "JOIN [Customers]\n",
    "  ON [Customers].CustomerID == [Orders].CustomerID\n",
    "    \n",
    "    \n",
    "SELECT EmployeeID, FirstName, LastName, COUNT(*) as EmployeeOrders FROM [EmployeeCountryOrders]\n",
    "WHERE TotalCost >= 1500 and substr(Country, 4, 1) in ('a', 'e', 'i', 'o', 'u')\n",
    "GROUP BY EmployeeID\n",
    "ORDER BY EmployeeOrders DESC"
   ]
  },
  {
   "cell_type": "markdown",
   "metadata": {},
   "source": [
    "#### Answer: \n",
    "EmployeeID\tFirstName\tLastName\tEmployeeOrders\n",
    "3\tJanet\tLeverling\t3\n",
    "7\tRobert\tKing\t2\n",
    "4\tMargaret\tPeacock\t2\n",
    "9\tAnne\tDodsworth\t1\n",
    "6\tMichael\tSuyama\t1\n",
    "2\tAndrew\tFuller\t1\n",
    "1\tNancy\tDavolio\t1"
   ]
  },
  {
   "cell_type": "markdown",
   "metadata": {},
   "source": [
    "#### 8: For customers with more than one order, what was the amount of time elapsed between their last order and the one prior to that?"
   ]
  },
  {
   "cell_type": "code",
   "execution_count": null,
   "metadata": {},
   "outputs": [],
   "source": [
    "CREATE TABLE CustomerLastDateTable AS\n",
    "SELECT [Customers].CustomerID, MAX([Orders].OrderDate)  FROM [Customers]\n",
    "JOIN [Orders]\n",
    "  ON [Customers].CustomerID == [Orders].CustomerID\n",
    "JOIN [CustomerOrderCountsTable]\n",
    "  ON [Customers].CustomerID == [CustomerOrderCountsTable].CustomerID\n",
    "WHERE [CustomerOrderCountsTable].CustomerOrders > 1\n",
    "GROUP BY [Customers].CustomerID\n",
    "\n",
    "\n",
    "CREATE TABLE CustomerDateDeltaTable AS\n",
    "SELECT [Customers].CustomerID, [Orders].OrderDate, [CustomerLastDateTable].LastDate, JulianDay([Orders].OrderDate) -  JulianDay([CustomerLastDateTable].LastDate) as DateDelta  FROM [Customers]\n",
    "JOIN [Orders]\n",
    "  ON [Customers].CustomerID == [Orders].CustomerID\n",
    "JOIN [CustomerOrderCountsTable]\n",
    "  ON [Customers].CustomerID == [CustomerOrderCountsTable].CustomerID\n",
    "JOIN [CustomerLastDateTable]\n",
    "  ON [Customers].CustomerID == [CustomerLastDateTable].CustomerID\n",
    "WHERE [CustomerOrderCountsTable].CustomerOrders > 1 and DateDelta < 0\n",
    "\n",
    "\n",
    "SELECT CustomerID,-1*MAX(DateDelta) as TimeBetweenLastAndPenultimatePurchase FROM [CustomerDateDeltaTable]\n",
    "GROUP BY CustomerID"
   ]
  },
  {
   "cell_type": "markdown",
   "metadata": {},
   "source": [
    "CustomerID\tTimeBetweenLastAndPenultimatePurchase (Days)\n",
    "4\t31\n",
    "5\t124\n",
    "7\t75\n",
    "9\t27\n",
    "10\t20\n",
    "14\t145\n",
    "17\t27\n",
    "19\t36\n",
    "20\t12\n",
    "21\t27\n",
    "24\t55\n",
    "25\t58\n",
    "28\t29\n",
    "29\t60\n",
    "34\t2\n",
    "35\t163\n",
    "36\t21\n",
    "37\t48\n",
    "38\t2\n",
    "39\t2\n",
    "41\t10\n",
    "44\t73\n",
    "46\t23\n",
    "48\t13\n",
    "49\t116\n",
    "51\t15\n",
    "55\t108\n",
    "58\t41\n",
    "59\t34\n",
    "60\t38\n",
    "61\t41\n",
    "62\t34\n",
    "63\t56\n",
    "65\t57\n",
    "66\t15\n",
    "67\t15\n",
    "68\t192\n",
    "69\t32\n",
    "71\t42\n",
    "72\t10\n",
    "73\t79\n",
    "75\t45\n",
    "76\t63\n",
    "80\t20\n",
    "81\t54\n",
    "83\t33\n",
    "84\t105\n",
    "85\t27\n",
    "86\t11\n",
    "87\t20\n",
    "88\t190\n",
    "89\t93"
   ]
  },
  {
   "cell_type": "markdown",
   "metadata": {},
   "source": [
    "#### Bonus: How many orders has the Batman sold to customers whose names end in a consonant?"
   ]
  },
  {
   "cell_type": "code",
   "execution_count": null,
   "metadata": {},
   "outputs": [],
   "source": [
    "SELECT OrderID,\tCustomerID,\t[Employees].EmployeeID, [Employees].FirstName as EmployeeFirstName, [Employees].LastName as EmployeeLastName  FROM [Orders]\n",
    "JOIN [Employees]\n",
    "  ON [Employees].EmployeeID == [Orders].EmployeeID\n",
    "WHERE EmployeeFirstName in ('Adam') and EmployeeLastName in ('West')"
   ]
  },
  {
   "cell_type": "markdown",
   "metadata": {},
   "source": [
    "Answer: 0"
   ]
  },
  {
   "cell_type": "markdown",
   "metadata": {},
   "source": [
    "# Question 3: Please generate a report that shows how many items from each category each employee has sold, showing the employee name, product name, and quantity sold"
   ]
  },
  {
   "cell_type": "markdown",
   "metadata": {},
   "source": [
    "### I believe the question should read as \"showing the employee name, category name, and quantity sold. That said, I ran three versions of this query in case I misunderstood the text"
   ]
  },
  {
   "cell_type": "markdown",
   "metadata": {},
   "source": [
    "#### By Product Name (Exclusive)"
   ]
  },
  {
   "cell_type": "code",
   "execution_count": null,
   "metadata": {},
   "outputs": [],
   "source": [
    "SELECT [Employees].FirstName as EmployeeFirstName, [Employees].LastName as EmployeeLastName, [Products].ProductName, Sum([OrderDetails].Quantity) as QuantitySold  FROM [OrderDetails]\n",
    "JOIN [Orders]\n",
    "  ON [Orders].OrderID == [OrderDetails].OrderID\n",
    "JOIN [Employees]\n",
    "  ON [Employees].EmployeeID == [Orders].EmployeeID\n",
    "JOIN [Products]\n",
    "  ON [Products].ProductID == [OrderDetails].ProductID\n",
    "GROUP BY [Employees].EmployeeID, [Products].ProductID"
   ]
  },
  {
   "cell_type": "markdown",
   "metadata": {},
   "source": [
    "#### By Category Name (Inclusive)"
   ]
  },
  {
   "cell_type": "code",
   "execution_count": null,
   "metadata": {},
   "outputs": [],
   "source": [
    "SELECT [Employees].FirstName as EmployeeFirstName, [Employees].LastName as EmployeeLastName, [Categories].CategoryName, Sum([OrderDetails].Quantity) as QuantitySold  FROM [OrderDetails]\n",
    "JOIN [Orders]\n",
    "  ON [Orders].OrderID == [OrderDetails].OrderID\n",
    "JOIN [Employees]\n",
    "  ON [Employees].EmployeeID == [Orders].EmployeeID\n",
    "JOIN [Products]\n",
    "  ON [Products].ProductID == [OrderDetails].ProductID\n",
    "JOIN [Categories]\n",
    "  ON [Categories].CategoryID == [Products].CategoryID\n",
    "GROUP BY [Employees].EmployeeID, [Products].CategoryID"
   ]
  },
  {
   "cell_type": "markdown",
   "metadata": {},
   "source": [
    "#### By Both (A combination in case this is what was requested)"
   ]
  },
  {
   "cell_type": "code",
   "execution_count": null,
   "metadata": {},
   "outputs": [],
   "source": [
    "SELECT [Employees].FirstName as EmployeeFirstName, [Employees].LastName as EmployeeLastName, [Categories].CategoryName, [Products].ProductName, Sum([OrderDetails].Quantity) as QuantitySold  FROM [OrderDetails]\n",
    "JOIN [Orders]\n",
    "  ON [Orders].OrderID == [OrderDetails].OrderID\n",
    "JOIN [Employees]\n",
    "  ON [Employees].EmployeeID == [Orders].EmployeeID\n",
    "JOIN [Products]\n",
    "  ON [Products].ProductID == [OrderDetails].ProductID\n",
    "JOIN [Categories]\n",
    "  ON [Categories].CategoryID == [Products].CategoryID\n",
    "GROUP BY [Employees].EmployeeID, [Categories].CategoryID, [Products].ProductID"
   ]
  },
  {
   "cell_type": "markdown",
   "metadata": {},
   "source": [
    "# Question 4: As you are probably aware, in Email syntax, the local part (before @) can incarnate in several forms that all pertain to the same recipient. E.g., candidate@creditninja.com, candidate+2019@creditninja.com and Can.di.Date@creditninja.com are all equivalent and pointing to the same email address. Using SQL in a flavor of your choosing, write a statement that recognizes any and all combinations of the above as the same."
   ]
  },
  {
   "cell_type": "markdown",
   "metadata": {},
   "source": [
    "#### I did not put this code into a functional form, but presumably that would be the place for it. For each possible value of the variable `email`, the `trueemail` variable is `candidate@creditninja.com` as requested."
   ]
  },
  {
   "cell_type": "code",
   "execution_count": null,
   "metadata": {},
   "outputs": [],
   "source": [
    "DECLARE @email VARCHAR(64);\n",
    "DECLARE @atidx INT;\n",
    "DECLARE @plsidx INT;\n",
    "DECLARE @domain VARCHAR(64);\n",
    "DECLARE @username VARCHAR(64);\n",
    "DECLARE @trueemail VARCHAR(64);\n",
    "\n",
    "#SELECT @email = 'candidate@creditninja.com';\n",
    "#SELECT @email = 'candidate+2019@creditninja.com';\n",
    "#SELECT @email = 'Can.Di.Date@creditninja.com';\n",
    "\n",
    "\n",
    "SELECT @atidx = CHARINDEX('@', @email, 0);\n",
    "\n",
    "SELECT @username = SUBSTRING(@email, 0, @atidx);\n",
    "SELECT @domain   = SUBSTRING(@email, @atidx, len(@email));\n",
    "\n",
    "SELECT @plsidx   = CHARINDEX('+', @username, 0);\n",
    "SELECT @plsidx   = IIF(@plsidx > 0, @plsidx, len(@username)+1);\n",
    "SELECT @username = SUBSTRING(@username, 0, @plsidx);\n",
    "SELECT @username = LOWER(@username);\n",
    "SELECT @username = REPLACE(@username, '.', '');\n",
    "\n",
    "SELECT @trueemail = CONCAT(@username,@domain)\n",
    "SELECt @trueemail"
   ]
  }
 ],
 "metadata": {
  "kernelspec": {
   "display_name": "Python 3",
   "language": "python",
   "name": "python3"
  },
  "language_info": {
   "codemirror_mode": {
    "name": "ipython",
    "version": 3
   },
   "file_extension": ".py",
   "mimetype": "text/x-python",
   "name": "python",
   "nbconvert_exporter": "python",
   "pygments_lexer": "ipython3",
   "version": "3.7.7"
  }
 },
 "nbformat": 4,
 "nbformat_minor": 4
}
